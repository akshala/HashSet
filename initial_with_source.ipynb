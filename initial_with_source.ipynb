{
 "cells": [
  {
   "cell_type": "code",
   "execution_count": 51,
   "metadata": {},
   "outputs": [],
   "source": [
    "import pickle \n",
    "import enchant"
   ]
  },
  {
   "cell_type": "markdown",
   "metadata": {},
   "source": [
    "# Multi Token"
   ]
  },
  {
   "cell_type": "code",
   "execution_count": 2,
   "metadata": {},
   "outputs": [],
   "source": [
    "open_file = open('set_romanHTs.pkl', \"rb\")\n",
    "hashtags = pickle.load(open_file)\n",
    "open_file.close()"
   ]
  },
  {
   "cell_type": "code",
   "execution_count": 3,
   "metadata": {},
   "outputs": [
    {
     "data": {
      "text/plain": [
       "7861"
      ]
     },
     "execution_count": 3,
     "metadata": {},
     "output_type": "execute_result"
    }
   ],
   "source": [
    "len(hashtags)"
   ]
  },
  {
   "cell_type": "code",
   "execution_count": 52,
   "metadata": {},
   "outputs": [],
   "source": [
    "english_dict = enchant.Dict(\"en_US\")"
   ]
  },
  {
   "cell_type": "code",
   "execution_count": 5,
   "metadata": {},
   "outputs": [],
   "source": [
    "single_eng = []\n",
    "rest = []\n",
    "for elt in hashtags:\n",
    "    if english_dict.check(elt.lower()):\n",
    "        single_eng.append(elt)\n",
    "    else:\n",
    "        rest.append(elt)"
   ]
  },
  {
   "cell_type": "code",
   "execution_count": 6,
   "metadata": {},
   "outputs": [
    {
     "data": {
      "text/plain": [
       "166"
      ]
     },
     "execution_count": 6,
     "metadata": {},
     "output_type": "execute_result"
    }
   ],
   "source": [
    "len(single_eng)"
   ]
  },
  {
   "cell_type": "code",
   "execution_count": 7,
   "metadata": {},
   "outputs": [
    {
     "data": {
      "text/plain": [
       "7695"
      ]
     },
     "execution_count": 7,
     "metadata": {},
     "output_type": "execute_result"
    }
   ],
   "source": [
    "len(rest)"
   ]
  },
  {
   "cell_type": "code",
   "execution_count": 15,
   "metadata": {},
   "outputs": [],
   "source": [
    "import csv\n",
    "outputStr = \"\"\n",
    "for elt in rest: \n",
    "    outputStr += elt + \"\\t\" + \"roman\" + \"\\n\"\n",
    "\n",
    "with open('multi_token_hashtags_with_source.tsv', 'w', newline='') as f_output:\n",
    "    f_output.write(outputStr)"
   ]
  },
  {
   "cell_type": "code",
   "execution_count": 16,
   "metadata": {},
   "outputs": [],
   "source": [
    "open_file = open('set_electionHTs.pkl', \"rb\")\n",
    "hashtags = pickle.load(open_file)\n",
    "open_file.close()"
   ]
  },
  {
   "cell_type": "code",
   "execution_count": 11,
   "metadata": {},
   "outputs": [
    {
     "data": {
      "text/plain": [
       "720348"
      ]
     },
     "execution_count": 11,
     "metadata": {},
     "output_type": "execute_result"
    }
   ],
   "source": [
    "len(hashtags)"
   ]
  },
  {
   "cell_type": "code",
   "execution_count": 12,
   "metadata": {},
   "outputs": [],
   "source": [
    "single_eng = []\n",
    "rest = []\n",
    "for elt in hashtags:\n",
    "    if english_dict.check(elt.lower()):\n",
    "        single_eng.append(elt)\n",
    "    else:\n",
    "        rest.append(elt)"
   ]
  },
  {
   "cell_type": "code",
   "execution_count": 13,
   "metadata": {},
   "outputs": [
    {
     "data": {
      "text/plain": [
       "40129"
      ]
     },
     "execution_count": 13,
     "metadata": {},
     "output_type": "execute_result"
    }
   ],
   "source": [
    "len(single_eng)"
   ]
  },
  {
   "cell_type": "code",
   "execution_count": 14,
   "metadata": {},
   "outputs": [
    {
     "data": {
      "text/plain": [
       "680219"
      ]
     },
     "execution_count": 14,
     "metadata": {},
     "output_type": "execute_result"
    }
   ],
   "source": [
    "len(rest)"
   ]
  },
  {
   "cell_type": "code",
   "execution_count": 17,
   "metadata": {},
   "outputs": [],
   "source": [
    "import csv\n",
    "outputStr = \"\"\n",
    "for elt in rest: \n",
    "    outputStr += elt + \"\\t\" + \"election\" \"\\n\"\n",
    "\n",
    "with open('multi_token_hashtags_with_source.tsv', 'a', newline='') as f_output:\n",
    "    f_output.write(outputStr + \"\\t\" + \"roman\")"
   ]
  },
  {
   "cell_type": "markdown",
   "metadata": {},
   "source": [
    "# Non Separable"
   ]
  },
  {
   "cell_type": "code",
   "execution_count": 2,
   "metadata": {},
   "outputs": [],
   "source": [
    "import pandas as pd\n",
    "import re "
   ]
  },
  {
   "cell_type": "code",
   "execution_count": 2,
   "metadata": {},
   "outputs": [
    {
     "data": {
      "text/html": [
       "<div>\n",
       "<style scoped>\n",
       "    .dataframe tbody tr th:only-of-type {\n",
       "        vertical-align: middle;\n",
       "    }\n",
       "\n",
       "    .dataframe tbody tr th {\n",
       "        vertical-align: top;\n",
       "    }\n",
       "\n",
       "    .dataframe thead th {\n",
       "        text-align: right;\n",
       "    }\n",
       "</style>\n",
       "<table border=\"1\" class=\"dataframe\">\n",
       "  <thead>\n",
       "    <tr style=\"text-align: right;\">\n",
       "      <th></th>\n",
       "      <th>Hashtag</th>\n",
       "      <th>Source</th>\n",
       "    </tr>\n",
       "  </thead>\n",
       "  <tbody>\n",
       "    <tr>\n",
       "      <th>0</th>\n",
       "      <td>trudeauisadog</td>\n",
       "      <td>roman</td>\n",
       "    </tr>\n",
       "    <tr>\n",
       "      <th>1</th>\n",
       "      <td>HockeyHair</td>\n",
       "      <td>roman</td>\n",
       "    </tr>\n",
       "    <tr>\n",
       "      <th>2</th>\n",
       "      <td>DrKJayakumar</td>\n",
       "      <td>roman</td>\n",
       "    </tr>\n",
       "    <tr>\n",
       "      <th>3</th>\n",
       "      <td>Episode1373</td>\n",
       "      <td>roman</td>\n",
       "    </tr>\n",
       "    <tr>\n",
       "      <th>4</th>\n",
       "      <td>1stResponder</td>\n",
       "      <td>roman</td>\n",
       "    </tr>\n",
       "  </tbody>\n",
       "</table>\n",
       "</div>"
      ],
      "text/plain": [
       "         Hashtag Source\n",
       "0  trudeauisadog  roman\n",
       "1     HockeyHair  roman\n",
       "2   DrKJayakumar  roman\n",
       "3    Episode1373  roman\n",
       "4   1stResponder  roman"
      ]
     },
     "execution_count": 2,
     "metadata": {},
     "output_type": "execute_result"
    }
   ],
   "source": [
    "df = pd.read_csv('multi_token_hashtags_with_source.tsv', header=None, sep='\\t')\n",
    "df.columns = ['Hashtag', 'Source']\n",
    "df.head()"
   ]
  },
  {
   "cell_type": "code",
   "execution_count": 3,
   "metadata": {},
   "outputs": [
    {
     "data": {
      "text/plain": [
       "1360434"
      ]
     },
     "execution_count": 3,
     "metadata": {},
     "output_type": "execute_result"
    }
   ],
   "source": [
    "df = df.dropna()\n",
    "len(df)"
   ]
  },
  {
   "cell_type": "code",
   "execution_count": 46,
   "metadata": {},
   "outputs": [
    {
     "data": {
      "text/plain": [
       "54820"
      ]
     },
     "execution_count": 46,
     "metadata": {},
     "output_type": "execute_result"
    }
   ],
   "source": [
    "count = 0\n",
    "for index, row in df.iterrows():\n",
    "    if row['Hashtag'].find('_') != -1:\n",
    "        count += 1\n",
    "count"
   ]
  },
  {
   "cell_type": "code",
   "execution_count": 4,
   "metadata": {},
   "outputs": [],
   "source": [
    "def camelCase_split(string):\n",
    "    splitted = re.finditer('.+?(?:(?<=[a-z])(?=[A-Z])|(?<=[A-Z])(?=[A-Z][a-z])|$)', string)\n",
    "    splitted_list = [m.group(0) for m in splitted]\n",
    "    return ' '.join(splitted_list)"
   ]
  },
  {
   "cell_type": "code",
   "execution_count": 5,
   "metadata": {},
   "outputs": [
    {
     "data": {
      "text/plain": [
       "'Hello Akshala Bhatnagar'"
      ]
     },
     "execution_count": 5,
     "metadata": {},
     "output_type": "execute_result"
    }
   ],
   "source": [
    "camelCase_split('HelloAkshalaBhatnagar')"
   ]
  },
  {
   "cell_type": "code",
   "execution_count": 6,
   "metadata": {},
   "outputs": [],
   "source": [
    "def underscore_split(string):\n",
    "    splitted_list = string.split('_')\n",
    "    return ' '.join(splitted_list)"
   ]
  },
  {
   "cell_type": "code",
   "execution_count": 7,
   "metadata": {},
   "outputs": [
    {
     "data": {
      "text/plain": [
       "'hello Akshala Bhatnagar'"
      ]
     },
     "execution_count": 7,
     "metadata": {},
     "output_type": "execute_result"
    }
   ],
   "source": [
    "underscore_split('hello_Akshala Bhatnagar')"
   ]
  },
  {
   "cell_type": "code",
   "execution_count": 8,
   "metadata": {},
   "outputs": [],
   "source": [
    "not_separable = pd.DataFrame(columns=['Hashtag', 'Source'])"
   ]
  },
  {
   "cell_type": "code",
   "execution_count": 9,
   "metadata": {},
   "outputs": [],
   "source": [
    "separable = pd.DataFrame(columns=['Hashtag', 'Source'])"
   ]
  },
  {
   "cell_type": "code",
   "execution_count": 10,
   "metadata": {},
   "outputs": [],
   "source": [
    "not_separable_count = 0\n",
    "separable_count = 0\n",
    "for index, row in df.iterrows():\n",
    "    camel_case_separated = camelCase_split(row['Hashtag'])\n",
    "    final_separated = underscore_split(camel_case_separated)\n",
    "    if final_separated == row['Hashtag']:\n",
    "        not_separable = not_separable.append(row)\n",
    "        not_separable_count += 1\n",
    "    else:\n",
    "        separable.loc[separable_count] = [final_separated, row['Source']]\n",
    "        separable_count += 1"
   ]
  },
  {
   "cell_type": "code",
   "execution_count": 11,
   "metadata": {},
   "outputs": [
    {
     "data": {
      "text/html": [
       "<div>\n",
       "<style scoped>\n",
       "    .dataframe tbody tr th:only-of-type {\n",
       "        vertical-align: middle;\n",
       "    }\n",
       "\n",
       "    .dataframe tbody tr th {\n",
       "        vertical-align: top;\n",
       "    }\n",
       "\n",
       "    .dataframe thead th {\n",
       "        text-align: right;\n",
       "    }\n",
       "</style>\n",
       "<table border=\"1\" class=\"dataframe\">\n",
       "  <thead>\n",
       "    <tr style=\"text-align: right;\">\n",
       "      <th></th>\n",
       "      <th>Hashtag</th>\n",
       "      <th>Source</th>\n",
       "    </tr>\n",
       "  </thead>\n",
       "  <tbody>\n",
       "    <tr>\n",
       "      <th>0</th>\n",
       "      <td>trudeauisadog</td>\n",
       "      <td>roman</td>\n",
       "    </tr>\n",
       "    <tr>\n",
       "      <th>3</th>\n",
       "      <td>Episode1373</td>\n",
       "      <td>roman</td>\n",
       "    </tr>\n",
       "    <tr>\n",
       "      <th>5</th>\n",
       "      <td>Malabon</td>\n",
       "      <td>roman</td>\n",
       "    </tr>\n",
       "    <tr>\n",
       "      <th>6</th>\n",
       "      <td>bjppollmanifesto</td>\n",
       "      <td>roman</td>\n",
       "    </tr>\n",
       "    <tr>\n",
       "      <th>7</th>\n",
       "      <td>milan</td>\n",
       "      <td>roman</td>\n",
       "    </tr>\n",
       "  </tbody>\n",
       "</table>\n",
       "</div>"
      ],
      "text/plain": [
       "            Hashtag Source\n",
       "0     trudeauisadog  roman\n",
       "3       Episode1373  roman\n",
       "5           Malabon  roman\n",
       "6  bjppollmanifesto  roman\n",
       "7             milan  roman"
      ]
     },
     "execution_count": 11,
     "metadata": {},
     "output_type": "execute_result"
    }
   ],
   "source": [
    "not_separable.drop_duplicates(keep = False, inplace = True) \n",
    "not_separable.head()"
   ]
  },
  {
   "cell_type": "code",
   "execution_count": 12,
   "metadata": {},
   "outputs": [
    {
     "data": {
      "text/plain": [
       "667830"
      ]
     },
     "execution_count": 12,
     "metadata": {},
     "output_type": "execute_result"
    }
   ],
   "source": [
    "len(not_separable)"
   ]
  },
  {
   "cell_type": "code",
   "execution_count": 13,
   "metadata": {},
   "outputs": [
    {
     "data": {
      "text/html": [
       "<div>\n",
       "<style scoped>\n",
       "    .dataframe tbody tr th:only-of-type {\n",
       "        vertical-align: middle;\n",
       "    }\n",
       "\n",
       "    .dataframe tbody tr th {\n",
       "        vertical-align: top;\n",
       "    }\n",
       "\n",
       "    .dataframe thead th {\n",
       "        text-align: right;\n",
       "    }\n",
       "</style>\n",
       "<table border=\"1\" class=\"dataframe\">\n",
       "  <thead>\n",
       "    <tr style=\"text-align: right;\">\n",
       "      <th></th>\n",
       "      <th>Hashtag</th>\n",
       "      <th>Source</th>\n",
       "    </tr>\n",
       "  </thead>\n",
       "  <tbody>\n",
       "    <tr>\n",
       "      <th>0</th>\n",
       "      <td>Hockey Hair</td>\n",
       "      <td>roman</td>\n",
       "    </tr>\n",
       "    <tr>\n",
       "      <th>1</th>\n",
       "      <td>Dr K Jayakumar</td>\n",
       "      <td>roman</td>\n",
       "    </tr>\n",
       "    <tr>\n",
       "      <th>2</th>\n",
       "      <td>1st Responder</td>\n",
       "      <td>roman</td>\n",
       "    </tr>\n",
       "    <tr>\n",
       "      <th>3</th>\n",
       "      <td>Bharat K</td>\n",
       "      <td>roman</td>\n",
       "    </tr>\n",
       "    <tr>\n",
       "      <th>4</th>\n",
       "      <td>Congress</td>\n",
       "      <td>roman</td>\n",
       "    </tr>\n",
       "  </tbody>\n",
       "</table>\n",
       "</div>"
      ],
      "text/plain": [
       "          Hashtag Source\n",
       "0     Hockey Hair  roman\n",
       "1  Dr K Jayakumar  roman\n",
       "2   1st Responder  roman\n",
       "3        Bharat K  roman\n",
       "4       Congress   roman"
      ]
     },
     "execution_count": 13,
     "metadata": {},
     "output_type": "execute_result"
    }
   ],
   "source": [
    "separable.drop_duplicates(keep = False, inplace = True) \n",
    "separable.head()"
   ]
  },
  {
   "cell_type": "code",
   "execution_count": 14,
   "metadata": {},
   "outputs": [
    {
     "data": {
      "text/plain": [
       "676706"
      ]
     },
     "execution_count": 14,
     "metadata": {},
     "output_type": "execute_result"
    }
   ],
   "source": [
    "len(separable)"
   ]
  },
  {
   "cell_type": "code",
   "execution_count": 15,
   "metadata": {},
   "outputs": [],
   "source": [
    "not_separable.to_csv('not_separable_with_source.csv')"
   ]
  },
  {
   "cell_type": "code",
   "execution_count": 16,
   "metadata": {},
   "outputs": [],
   "source": [
    "separable.to_csv('separable_with_source.csv')"
   ]
  },
  {
   "cell_type": "markdown",
   "metadata": {},
   "source": [
    "# Non eng"
   ]
  },
  {
   "cell_type": "code",
   "execution_count": 36,
   "metadata": {},
   "outputs": [],
   "source": [
    "not_seaparable_hashtags = pd.read_csv('not_separable_with_source.csv')"
   ]
  },
  {
   "cell_type": "code",
   "execution_count": 37,
   "metadata": {},
   "outputs": [
    {
     "data": {
      "text/plain": [
       "pandas.core.series.Series"
      ]
     },
     "execution_count": 37,
     "metadata": {},
     "output_type": "execute_result"
    }
   ],
   "source": [
    "not_seaparable_hashtags = not_separable['Hashtag']\n",
    "type(not_seaparable_hashtags)"
   ]
  },
  {
   "cell_type": "code",
   "execution_count": 38,
   "metadata": {},
   "outputs": [],
   "source": [
    "not_seaparable_hashtags.to_csv('not_separable_hashtags_with_source.tsv', sep='\\t')"
   ]
  },
  {
   "cell_type": "code",
   "execution_count": 39,
   "metadata": {},
   "outputs": [
    {
     "data": {
      "text/html": [
       "<div>\n",
       "<style scoped>\n",
       "    .dataframe tbody tr th:only-of-type {\n",
       "        vertical-align: middle;\n",
       "    }\n",
       "\n",
       "    .dataframe tbody tr th {\n",
       "        vertical-align: top;\n",
       "    }\n",
       "\n",
       "    .dataframe thead th {\n",
       "        text-align: right;\n",
       "    }\n",
       "</style>\n",
       "<table border=\"1\" class=\"dataframe\">\n",
       "  <thead>\n",
       "    <tr style=\"text-align: right;\">\n",
       "      <th></th>\n",
       "      <th>Unnamed: 0</th>\n",
       "      <th>Hashtag</th>\n",
       "    </tr>\n",
       "  </thead>\n",
       "  <tbody>\n",
       "    <tr>\n",
       "      <th>0</th>\n",
       "      <td>0</td>\n",
       "      <td>trudeauisadog</td>\n",
       "    </tr>\n",
       "    <tr>\n",
       "      <th>1</th>\n",
       "      <td>3</td>\n",
       "      <td>Episode1373</td>\n",
       "    </tr>\n",
       "    <tr>\n",
       "      <th>2</th>\n",
       "      <td>5</td>\n",
       "      <td>Malabon</td>\n",
       "    </tr>\n",
       "    <tr>\n",
       "      <th>3</th>\n",
       "      <td>6</td>\n",
       "      <td>bjppollmanifesto</td>\n",
       "    </tr>\n",
       "    <tr>\n",
       "      <th>4</th>\n",
       "      <td>7</td>\n",
       "      <td>milan</td>\n",
       "    </tr>\n",
       "  </tbody>\n",
       "</table>\n",
       "</div>"
      ],
      "text/plain": [
       "   Unnamed: 0           Hashtag\n",
       "0           0     trudeauisadog\n",
       "1           3       Episode1373\n",
       "2           5           Malabon\n",
       "3           6  bjppollmanifesto\n",
       "4           7             milan"
      ]
     },
     "execution_count": 39,
     "metadata": {},
     "output_type": "execute_result"
    }
   ],
   "source": [
    "df = pd.read_csv('not_separable_hashtags_with_source.tsv', sep='\\t')\n",
    "df.head()"
   ]
  },
  {
   "cell_type": "code",
   "execution_count": 40,
   "metadata": {},
   "outputs": [
    {
     "data": {
      "text/html": [
       "<div>\n",
       "<style scoped>\n",
       "    .dataframe tbody tr th:only-of-type {\n",
       "        vertical-align: middle;\n",
       "    }\n",
       "\n",
       "    .dataframe tbody tr th {\n",
       "        vertical-align: top;\n",
       "    }\n",
       "\n",
       "    .dataframe thead th {\n",
       "        text-align: right;\n",
       "    }\n",
       "</style>\n",
       "<table border=\"1\" class=\"dataframe\">\n",
       "  <thead>\n",
       "    <tr style=\"text-align: right;\">\n",
       "      <th></th>\n",
       "      <th>Hashtag</th>\n",
       "    </tr>\n",
       "  </thead>\n",
       "  <tbody>\n",
       "    <tr>\n",
       "      <th>0</th>\n",
       "      <td>trudeauisadog</td>\n",
       "    </tr>\n",
       "    <tr>\n",
       "      <th>1</th>\n",
       "      <td>Episode1373</td>\n",
       "    </tr>\n",
       "    <tr>\n",
       "      <th>2</th>\n",
       "      <td>Malabon</td>\n",
       "    </tr>\n",
       "    <tr>\n",
       "      <th>3</th>\n",
       "      <td>bjppollmanifesto</td>\n",
       "    </tr>\n",
       "    <tr>\n",
       "      <th>4</th>\n",
       "      <td>milan</td>\n",
       "    </tr>\n",
       "  </tbody>\n",
       "</table>\n",
       "</div>"
      ],
      "text/plain": [
       "            Hashtag\n",
       "0     trudeauisadog\n",
       "1       Episode1373\n",
       "2           Malabon\n",
       "3  bjppollmanifesto\n",
       "4             milan"
      ]
     },
     "execution_count": 40,
     "metadata": {},
     "output_type": "execute_result"
    }
   ],
   "source": [
    "df = df.drop('Unnamed: 0', axis=1)\n",
    "df.head()"
   ]
  },
  {
   "cell_type": "code",
   "execution_count": 41,
   "metadata": {},
   "outputs": [],
   "source": [
    "df.to_csv('not_separable_hashtags_with_source.tsv', sep='\\t', header=False, index=False)"
   ]
  },
  {
   "cell_type": "code",
   "execution_count": 42,
   "metadata": {},
   "outputs": [
    {
     "name": "stdout",
     "output_type": "stream",
     "text": [
      "Loading language model.\r\n",
      "Done.\r\n",
      "Extracting top segmentations.\r\n"
     ]
    }
   ],
   "source": [
    "!python hashtag_master-master/word_breaker/main.py --k 10 --lm hashtag_master-master/data/small_gt.bin --out not_separable_hashtags_with_source_topk.tsv --input not_separable_hashtags_with_source.tsv"
   ]
  },
  {
   "cell_type": "code",
   "execution_count": 48,
   "metadata": {},
   "outputs": [
    {
     "data": {
      "text/html": [
       "<div>\n",
       "<style scoped>\n",
       "    .dataframe tbody tr th:only-of-type {\n",
       "        vertical-align: middle;\n",
       "    }\n",
       "\n",
       "    .dataframe tbody tr th {\n",
       "        vertical-align: top;\n",
       "    }\n",
       "\n",
       "    .dataframe thead th {\n",
       "        text-align: right;\n",
       "    }\n",
       "</style>\n",
       "<table border=\"1\" class=\"dataframe\">\n",
       "  <thead>\n",
       "    <tr style=\"text-align: right;\">\n",
       "      <th></th>\n",
       "      <th>Hashtag</th>\n",
       "      <th>1</th>\n",
       "      <th>2</th>\n",
       "      <th>3</th>\n",
       "      <th>4</th>\n",
       "      <th>5</th>\n",
       "      <th>6</th>\n",
       "      <th>7</th>\n",
       "      <th>8</th>\n",
       "      <th>9</th>\n",
       "      <th>10</th>\n",
       "    </tr>\n",
       "  </thead>\n",
       "  <tbody>\n",
       "    <tr>\n",
       "      <th>0</th>\n",
       "      <td>trudeauisadog</td>\n",
       "      <td>trudeau is a dog</td>\n",
       "      <td>trudeau isa dog</td>\n",
       "      <td>t rudeau is a dog</td>\n",
       "      <td>trudeau i s a dog</td>\n",
       "      <td>trudeau i sa dog</td>\n",
       "      <td>trudeau is a d o g</td>\n",
       "      <td>trudeau is a d og</td>\n",
       "      <td>trudeau i sad og</td>\n",
       "      <td>tru de au is a dog</td>\n",
       "      <td>trudeau is a do g</td>\n",
       "    </tr>\n",
       "    <tr>\n",
       "      <th>1</th>\n",
       "      <td>Episode1373</td>\n",
       "      <td>Episode 13 73</td>\n",
       "      <td>Episode 1 373</td>\n",
       "      <td>Episode 137 3</td>\n",
       "      <td>Episode1 373</td>\n",
       "      <td>Episode 1 37 3</td>\n",
       "      <td>Episode 13 7 3</td>\n",
       "      <td>Episode 1 3 73</td>\n",
       "      <td>Episode1 37 3</td>\n",
       "      <td>Episode1 3 73</td>\n",
       "      <td>Episode 1 3 7 3</td>\n",
       "    </tr>\n",
       "    <tr>\n",
       "      <th>2</th>\n",
       "      <td>Malabon</td>\n",
       "      <td>Malab on</td>\n",
       "      <td>Malabo n</td>\n",
       "      <td>Mala bon</td>\n",
       "      <td>Ma lab on</td>\n",
       "      <td>Mala b on</td>\n",
       "      <td>Mal a b on</td>\n",
       "      <td>M a lab on</td>\n",
       "      <td>Mal abon</td>\n",
       "      <td>Mala bo n</td>\n",
       "      <td>Mal ab on</td>\n",
       "    </tr>\n",
       "    <tr>\n",
       "      <th>3</th>\n",
       "      <td>bjppollmanifesto</td>\n",
       "      <td>bjp poll manifesto</td>\n",
       "      <td>bj p poll manifesto</td>\n",
       "      <td>b jp poll manifesto</td>\n",
       "      <td>bjp poll manifest o</td>\n",
       "      <td>bj p p o l l manifesto</td>\n",
       "      <td>b j p poll manifesto</td>\n",
       "      <td>bjp p o l l manifesto</td>\n",
       "      <td>bjp po ll manifesto</td>\n",
       "      <td>bjp pol l manifesto</td>\n",
       "      <td>bj p poll manifest o</td>\n",
       "    </tr>\n",
       "    <tr>\n",
       "      <th>4</th>\n",
       "      <td>milan</td>\n",
       "      <td>milan</td>\n",
       "      <td>mil an</td>\n",
       "      <td>mila n</td>\n",
       "      <td>mi lan</td>\n",
       "      <td>m i l a n</td>\n",
       "      <td>mil a n</td>\n",
       "      <td>mi la n</td>\n",
       "      <td>mi l a n</td>\n",
       "      <td>m i l an</td>\n",
       "      <td>m ilan</td>\n",
       "    </tr>\n",
       "  </tbody>\n",
       "</table>\n",
       "</div>"
      ],
      "text/plain": [
       "            Hashtag                   1                    2  \\\n",
       "0     trudeauisadog    trudeau is a dog      trudeau isa dog   \n",
       "1       Episode1373       Episode 13 73        Episode 1 373   \n",
       "2           Malabon            Malab on             Malabo n   \n",
       "3  bjppollmanifesto  bjp poll manifesto  bj p poll manifesto   \n",
       "4             milan               milan               mil an   \n",
       "\n",
       "                     3                    4                       5  \\\n",
       "0    t rudeau is a dog    trudeau i s a dog        trudeau i sa dog   \n",
       "1        Episode 137 3         Episode1 373          Episode 1 37 3   \n",
       "2             Mala bon            Ma lab on               Mala b on   \n",
       "3  b jp poll manifesto  bjp poll manifest o  bj p p o l l manifesto   \n",
       "4               mila n               mi lan               m i l a n   \n",
       "\n",
       "                      6                      7                    8  \\\n",
       "0    trudeau is a d o g      trudeau is a d og     trudeau i sad og   \n",
       "1        Episode 13 7 3         Episode 1 3 73        Episode1 37 3   \n",
       "2            Mal a b on             M a lab on             Mal abon   \n",
       "3  b j p poll manifesto  bjp p o l l manifesto  bjp po ll manifesto   \n",
       "4               mil a n                mi la n             mi l a n   \n",
       "\n",
       "                     9                    10  \n",
       "0   tru de au is a dog     trudeau is a do g  \n",
       "1        Episode1 3 73       Episode 1 3 7 3  \n",
       "2            Mala bo n             Mal ab on  \n",
       "3  bjp pol l manifesto  bj p poll manifest o  \n",
       "4             m i l an                m ilan  "
      ]
     },
     "execution_count": 48,
     "metadata": {},
     "output_type": "execute_result"
    }
   ],
   "source": [
    "df = pd.read_csv('not_separable_hashtags_with_source_topk.tsv', sep='\\t', header=None, names=['Hashtag', '1', '2', '3', '4', '5', '6', '7', '8', '9', '10'])\n",
    "df.head()"
   ]
  },
  {
   "cell_type": "code",
   "execution_count": 49,
   "metadata": {},
   "outputs": [],
   "source": [
    "non_eng_df = pd.DataFrame(columns=['Hashtag', '1', '2', '3', '4', '5', '6', '7', '8', '9', '10'])"
   ]
  },
  {
   "cell_type": "code",
   "execution_count": 53,
   "metadata": {},
   "outputs": [],
   "source": [
    "for index, row in df.iterrows():\n",
    "    try:\n",
    "        segmented = row['1'].split()\n",
    "        flag = 0\n",
    "        for elt in segmented:\n",
    "            if not elt.isnumeric() and not english_dict.check(elt.lower()):\n",
    "                flag = 1\n",
    "        if flag:\n",
    "            non_eng_df = non_eng_df.append(row)\n",
    "    except AttributeError:\n",
    "        pass"
   ]
  },
  {
   "cell_type": "code",
   "execution_count": 54,
   "metadata": {},
   "outputs": [
    {
     "data": {
      "text/html": [
       "<div>\n",
       "<style scoped>\n",
       "    .dataframe tbody tr th:only-of-type {\n",
       "        vertical-align: middle;\n",
       "    }\n",
       "\n",
       "    .dataframe tbody tr th {\n",
       "        vertical-align: top;\n",
       "    }\n",
       "\n",
       "    .dataframe thead th {\n",
       "        text-align: right;\n",
       "    }\n",
       "</style>\n",
       "<table border=\"1\" class=\"dataframe\">\n",
       "  <thead>\n",
       "    <tr style=\"text-align: right;\">\n",
       "      <th></th>\n",
       "      <th>Hashtag</th>\n",
       "      <th>1</th>\n",
       "      <th>2</th>\n",
       "      <th>3</th>\n",
       "      <th>4</th>\n",
       "      <th>5</th>\n",
       "      <th>6</th>\n",
       "      <th>7</th>\n",
       "      <th>8</th>\n",
       "      <th>9</th>\n",
       "      <th>10</th>\n",
       "    </tr>\n",
       "  </thead>\n",
       "  <tbody>\n",
       "    <tr>\n",
       "      <th>0</th>\n",
       "      <td>trudeauisadog</td>\n",
       "      <td>trudeau is a dog</td>\n",
       "      <td>trudeau isa dog</td>\n",
       "      <td>t rudeau is a dog</td>\n",
       "      <td>trudeau i s a dog</td>\n",
       "      <td>trudeau i sa dog</td>\n",
       "      <td>trudeau is a d o g</td>\n",
       "      <td>trudeau is a d og</td>\n",
       "      <td>trudeau i sad og</td>\n",
       "      <td>tru de au is a dog</td>\n",
       "      <td>trudeau is a do g</td>\n",
       "    </tr>\n",
       "    <tr>\n",
       "      <th>2</th>\n",
       "      <td>Malabon</td>\n",
       "      <td>Malab on</td>\n",
       "      <td>Malabo n</td>\n",
       "      <td>Mala bon</td>\n",
       "      <td>Ma lab on</td>\n",
       "      <td>Mala b on</td>\n",
       "      <td>Mal a b on</td>\n",
       "      <td>M a lab on</td>\n",
       "      <td>Mal abon</td>\n",
       "      <td>Mala bo n</td>\n",
       "      <td>Mal ab on</td>\n",
       "    </tr>\n",
       "    <tr>\n",
       "      <th>3</th>\n",
       "      <td>bjppollmanifesto</td>\n",
       "      <td>bjp poll manifesto</td>\n",
       "      <td>bj p poll manifesto</td>\n",
       "      <td>b jp poll manifesto</td>\n",
       "      <td>bjp poll manifest o</td>\n",
       "      <td>bj p p o l l manifesto</td>\n",
       "      <td>b j p poll manifesto</td>\n",
       "      <td>bjp p o l l manifesto</td>\n",
       "      <td>bjp po ll manifesto</td>\n",
       "      <td>bjp pol l manifesto</td>\n",
       "      <td>bj p poll manifest o</td>\n",
       "    </tr>\n",
       "    <tr>\n",
       "      <th>4</th>\n",
       "      <td>milan</td>\n",
       "      <td>milan</td>\n",
       "      <td>mil an</td>\n",
       "      <td>mila n</td>\n",
       "      <td>mi lan</td>\n",
       "      <td>m i l a n</td>\n",
       "      <td>mil a n</td>\n",
       "      <td>mi la n</td>\n",
       "      <td>mi l a n</td>\n",
       "      <td>m i l an</td>\n",
       "      <td>m ilan</td>\n",
       "    </tr>\n",
       "    <tr>\n",
       "      <th>5</th>\n",
       "      <td>Dagga</td>\n",
       "      <td>Dagga</td>\n",
       "      <td>Dagg a</td>\n",
       "      <td>Dag ga</td>\n",
       "      <td>Da gga</td>\n",
       "      <td>Da gg a</td>\n",
       "      <td>Da g ga</td>\n",
       "      <td>Dag g a</td>\n",
       "      <td>D agg a</td>\n",
       "      <td>Da g g a</td>\n",
       "      <td>D a gga</td>\n",
       "    </tr>\n",
       "  </tbody>\n",
       "</table>\n",
       "</div>"
      ],
      "text/plain": [
       "            Hashtag                   1                    2  \\\n",
       "0     trudeauisadog    trudeau is a dog      trudeau isa dog   \n",
       "2           Malabon            Malab on             Malabo n   \n",
       "3  bjppollmanifesto  bjp poll manifesto  bj p poll manifesto   \n",
       "4             milan               milan               mil an   \n",
       "5             Dagga               Dagga               Dagg a   \n",
       "\n",
       "                     3                    4                       5  \\\n",
       "0    t rudeau is a dog    trudeau i s a dog        trudeau i sa dog   \n",
       "2             Mala bon            Ma lab on               Mala b on   \n",
       "3  b jp poll manifesto  bjp poll manifest o  bj p p o l l manifesto   \n",
       "4               mila n               mi lan               m i l a n   \n",
       "5               Dag ga               Da gga                 Da gg a   \n",
       "\n",
       "                      6                      7                    8  \\\n",
       "0    trudeau is a d o g      trudeau is a d og     trudeau i sad og   \n",
       "2            Mal a b on             M a lab on             Mal abon   \n",
       "3  b j p poll manifesto  bjp p o l l manifesto  bjp po ll manifesto   \n",
       "4               mil a n                mi la n             mi l a n   \n",
       "5               Da g ga                Dag g a              D agg a   \n",
       "\n",
       "                     9                    10  \n",
       "0   tru de au is a dog     trudeau is a do g  \n",
       "2            Mala bo n             Mal ab on  \n",
       "3  bjp pol l manifesto  bj p poll manifest o  \n",
       "4             m i l an                m ilan  \n",
       "5             Da g g a               D a gga  "
      ]
     },
     "execution_count": 54,
     "metadata": {},
     "output_type": "execute_result"
    }
   ],
   "source": [
    "non_eng_df.head()"
   ]
  },
  {
   "cell_type": "code",
   "execution_count": 55,
   "metadata": {},
   "outputs": [
    {
     "data": {
      "text/plain": [
       "450614"
      ]
     },
     "execution_count": 55,
     "metadata": {},
     "output_type": "execute_result"
    }
   ],
   "source": [
    "len(non_eng_df)"
   ]
  },
  {
   "cell_type": "code",
   "execution_count": 57,
   "metadata": {},
   "outputs": [],
   "source": [
    "non_eng_df.to_csv('nonEng_notSeparable_multiToken_withSource.csv')"
   ]
  },
  {
   "cell_type": "markdown",
   "metadata": {},
   "source": [
    "# Final Segmentation"
   ]
  },
  {
   "cell_type": "code",
   "execution_count": 58,
   "metadata": {},
   "outputs": [],
   "source": [
    "non_eng_df = pd.read_csv('nonEng_notSeparable_multiToken_withSource.csv')"
   ]
  },
  {
   "cell_type": "code",
   "execution_count": 59,
   "metadata": {},
   "outputs": [
    {
     "data": {
      "text/plain": [
       "pandas.core.series.Series"
      ]
     },
     "execution_count": 59,
     "metadata": {},
     "output_type": "execute_result"
    }
   ],
   "source": [
    "nonEng_hashtags = non_eng_df['Hashtag']\n",
    "type(nonEng_hashtags)"
   ]
  },
  {
   "cell_type": "code",
   "execution_count": 60,
   "metadata": {},
   "outputs": [],
   "source": [
    "nonEng_hashtags.to_csv('nonEng_notSeparable_multiToken_hashtags_withSource.tsv', sep='\\t')"
   ]
  },
  {
   "cell_type": "code",
   "execution_count": 61,
   "metadata": {},
   "outputs": [
    {
     "data": {
      "text/html": [
       "<div>\n",
       "<style scoped>\n",
       "    .dataframe tbody tr th:only-of-type {\n",
       "        vertical-align: middle;\n",
       "    }\n",
       "\n",
       "    .dataframe tbody tr th {\n",
       "        vertical-align: top;\n",
       "    }\n",
       "\n",
       "    .dataframe thead th {\n",
       "        text-align: right;\n",
       "    }\n",
       "</style>\n",
       "<table border=\"1\" class=\"dataframe\">\n",
       "  <thead>\n",
       "    <tr style=\"text-align: right;\">\n",
       "      <th></th>\n",
       "      <th>Unnamed: 0</th>\n",
       "      <th>Hashtag</th>\n",
       "    </tr>\n",
       "  </thead>\n",
       "  <tbody>\n",
       "    <tr>\n",
       "      <th>0</th>\n",
       "      <td>0</td>\n",
       "      <td>trudeauisadog</td>\n",
       "    </tr>\n",
       "    <tr>\n",
       "      <th>1</th>\n",
       "      <td>1</td>\n",
       "      <td>Malabon</td>\n",
       "    </tr>\n",
       "    <tr>\n",
       "      <th>2</th>\n",
       "      <td>2</td>\n",
       "      <td>bjppollmanifesto</td>\n",
       "    </tr>\n",
       "    <tr>\n",
       "      <th>3</th>\n",
       "      <td>3</td>\n",
       "      <td>milan</td>\n",
       "    </tr>\n",
       "    <tr>\n",
       "      <th>4</th>\n",
       "      <td>4</td>\n",
       "      <td>Dagga</td>\n",
       "    </tr>\n",
       "  </tbody>\n",
       "</table>\n",
       "</div>"
      ],
      "text/plain": [
       "   Unnamed: 0           Hashtag\n",
       "0           0     trudeauisadog\n",
       "1           1           Malabon\n",
       "2           2  bjppollmanifesto\n",
       "3           3             milan\n",
       "4           4             Dagga"
      ]
     },
     "execution_count": 61,
     "metadata": {},
     "output_type": "execute_result"
    }
   ],
   "source": [
    "df = pd.read_csv('nonEng_notSeparable_multiToken_hashtags_withSource.tsv', sep='\\t')\n",
    "df.head()"
   ]
  },
  {
   "cell_type": "code",
   "execution_count": 62,
   "metadata": {},
   "outputs": [
    {
     "data": {
      "text/html": [
       "<div>\n",
       "<style scoped>\n",
       "    .dataframe tbody tr th:only-of-type {\n",
       "        vertical-align: middle;\n",
       "    }\n",
       "\n",
       "    .dataframe tbody tr th {\n",
       "        vertical-align: top;\n",
       "    }\n",
       "\n",
       "    .dataframe thead th {\n",
       "        text-align: right;\n",
       "    }\n",
       "</style>\n",
       "<table border=\"1\" class=\"dataframe\">\n",
       "  <thead>\n",
       "    <tr style=\"text-align: right;\">\n",
       "      <th></th>\n",
       "      <th>Hashtag</th>\n",
       "    </tr>\n",
       "  </thead>\n",
       "  <tbody>\n",
       "    <tr>\n",
       "      <th>0</th>\n",
       "      <td>trudeauisadog</td>\n",
       "    </tr>\n",
       "    <tr>\n",
       "      <th>1</th>\n",
       "      <td>Malabon</td>\n",
       "    </tr>\n",
       "    <tr>\n",
       "      <th>2</th>\n",
       "      <td>bjppollmanifesto</td>\n",
       "    </tr>\n",
       "    <tr>\n",
       "      <th>3</th>\n",
       "      <td>milan</td>\n",
       "    </tr>\n",
       "    <tr>\n",
       "      <th>4</th>\n",
       "      <td>Dagga</td>\n",
       "    </tr>\n",
       "  </tbody>\n",
       "</table>\n",
       "</div>"
      ],
      "text/plain": [
       "            Hashtag\n",
       "0     trudeauisadog\n",
       "1           Malabon\n",
       "2  bjppollmanifesto\n",
       "3             milan\n",
       "4             Dagga"
      ]
     },
     "execution_count": 62,
     "metadata": {},
     "output_type": "execute_result"
    }
   ],
   "source": [
    "df = df.drop('Unnamed: 0', axis=1)\n",
    "df.head()"
   ]
  },
  {
   "cell_type": "code",
   "execution_count": 63,
   "metadata": {},
   "outputs": [],
   "source": [
    "df.to_csv('nonEng_notSeparable_multiToken_hashtags_withSource.tsv', sep='\\t', header=False, index=False)"
   ]
  },
  {
   "cell_type": "code",
   "execution_count": 71,
   "metadata": {},
   "outputs": [
    {
     "name": "stdout",
     "output_type": "stream",
     "text": [
      "Loading language model.\n",
      "Done.\n",
      "Extracting top segmentations.\n"
     ]
    }
   ],
   "source": [
    "!python hashtag_master-master/word_breaker/main.py --k 10 --lm bigger_model.binary --out nonEng_notSeparable_multiToken_hashtags_withSource_topk.tsv --input nonEng_notSeparable_multiToken_hashtags_withSource.tsv"
   ]
  },
  {
   "cell_type": "code",
   "execution_count": 3,
   "metadata": {},
   "outputs": [
    {
     "data": {
      "text/html": [
       "<div>\n",
       "<style scoped>\n",
       "    .dataframe tbody tr th:only-of-type {\n",
       "        vertical-align: middle;\n",
       "    }\n",
       "\n",
       "    .dataframe tbody tr th {\n",
       "        vertical-align: top;\n",
       "    }\n",
       "\n",
       "    .dataframe thead th {\n",
       "        text-align: right;\n",
       "    }\n",
       "</style>\n",
       "<table border=\"1\" class=\"dataframe\">\n",
       "  <thead>\n",
       "    <tr style=\"text-align: right;\">\n",
       "      <th></th>\n",
       "      <th>Hashtag</th>\n",
       "      <th>1</th>\n",
       "      <th>2</th>\n",
       "      <th>3</th>\n",
       "      <th>4</th>\n",
       "      <th>5</th>\n",
       "      <th>6</th>\n",
       "      <th>7</th>\n",
       "      <th>8</th>\n",
       "      <th>9</th>\n",
       "      <th>10</th>\n",
       "    </tr>\n",
       "  </thead>\n",
       "  <tbody>\n",
       "    <tr>\n",
       "      <th>0</th>\n",
       "      <td>trudeauisadog</td>\n",
       "      <td>trudeauisadog</td>\n",
       "      <td>trudeau is a dog</td>\n",
       "      <td>trudeauisado g</td>\n",
       "      <td>trudeauisa dog</td>\n",
       "      <td>t rudeauisadog</td>\n",
       "      <td>trudeauisad og</td>\n",
       "      <td>tr udeauisadog</td>\n",
       "      <td>trudeau isadog</td>\n",
       "      <td>tru deauisadog</td>\n",
       "      <td>trude auisadog</td>\n",
       "    </tr>\n",
       "    <tr>\n",
       "      <th>1</th>\n",
       "      <td>Malabon</td>\n",
       "      <td>Malabon</td>\n",
       "      <td>Malab on</td>\n",
       "      <td>Mala bon</td>\n",
       "      <td>Ma labon</td>\n",
       "      <td>Malabo n</td>\n",
       "      <td>Ma lab on</td>\n",
       "      <td>Mala b on</td>\n",
       "      <td>Mal abon</td>\n",
       "      <td>Mal ab on</td>\n",
       "      <td>Mal a bon</td>\n",
       "    </tr>\n",
       "    <tr>\n",
       "      <th>2</th>\n",
       "      <td>bjppollmanifesto</td>\n",
       "      <td>bjppollmanifesto</td>\n",
       "      <td>bjppollmanifes to</td>\n",
       "      <td>bjppollmanifest o</td>\n",
       "      <td>b jppollmanifesto</td>\n",
       "      <td>bjppoll manifesto</td>\n",
       "      <td>bjp pollmanifesto</td>\n",
       "      <td>bj ppollmanifesto</td>\n",
       "      <td>bjppollmanife sto</td>\n",
       "      <td>bjppollmanif esto</td>\n",
       "      <td>bjppollmanife s to</td>\n",
       "    </tr>\n",
       "    <tr>\n",
       "      <th>3</th>\n",
       "      <td>milan</td>\n",
       "      <td>milan</td>\n",
       "      <td>mi lan</td>\n",
       "      <td>mil an</td>\n",
       "      <td>mila n</td>\n",
       "      <td>m ilan</td>\n",
       "      <td>m i l a n</td>\n",
       "      <td>mil a n</td>\n",
       "      <td>mi la n</td>\n",
       "      <td>m i lan</td>\n",
       "      <td>m il an</td>\n",
       "    </tr>\n",
       "    <tr>\n",
       "      <th>4</th>\n",
       "      <td>Dagga</td>\n",
       "      <td>Dagga</td>\n",
       "      <td>Dagg a</td>\n",
       "      <td>Dag ga</td>\n",
       "      <td>Da gga</td>\n",
       "      <td>D agga</td>\n",
       "      <td>Dag g a</td>\n",
       "      <td>Da g g a</td>\n",
       "      <td>Da gg a</td>\n",
       "      <td>Da g ga</td>\n",
       "      <td>D ag ga</td>\n",
       "    </tr>\n",
       "  </tbody>\n",
       "</table>\n",
       "</div>"
      ],
      "text/plain": [
       "            Hashtag                 1                  2                  3  \\\n",
       "0     trudeauisadog     trudeauisadog   trudeau is a dog     trudeauisado g   \n",
       "1           Malabon           Malabon           Malab on           Mala bon   \n",
       "2  bjppollmanifesto  bjppollmanifesto  bjppollmanifes to  bjppollmanifest o   \n",
       "3             milan             milan             mi lan             mil an   \n",
       "4             Dagga             Dagga             Dagg a             Dag ga   \n",
       "\n",
       "                   4                  5                  6                  7  \\\n",
       "0     trudeauisa dog     t rudeauisadog     trudeauisad og     tr udeauisadog   \n",
       "1           Ma labon           Malabo n          Ma lab on          Mala b on   \n",
       "2  b jppollmanifesto  bjppoll manifesto  bjp pollmanifesto  bj ppollmanifesto   \n",
       "3             mila n             m ilan          m i l a n            mil a n   \n",
       "4             Da gga             D agga            Dag g a           Da g g a   \n",
       "\n",
       "                   8                  9                  10  \n",
       "0     trudeau isadog     tru deauisadog      trude auisadog  \n",
       "1           Mal abon          Mal ab on           Mal a bon  \n",
       "2  bjppollmanife sto  bjppollmanif esto  bjppollmanife s to  \n",
       "3            mi la n            m i lan             m il an  \n",
       "4            Da gg a            Da g ga             D ag ga  "
      ]
     },
     "execution_count": 3,
     "metadata": {},
     "output_type": "execute_result"
    }
   ],
   "source": [
    "df = pd.read_csv('nonEng_notSeparable_multiToken_hashtags_withSource_topk.tsv', sep='\\t', header=None, names=['Hashtag', '1', '2', '3', '4', '5', '6', '7', '8', '9', '10'])\n",
    "df.head()"
   ]
  },
  {
   "cell_type": "code",
   "execution_count": 4,
   "metadata": {},
   "outputs": [
    {
     "data": {
      "text/html": [
       "<div>\n",
       "<style scoped>\n",
       "    .dataframe tbody tr th:only-of-type {\n",
       "        vertical-align: middle;\n",
       "    }\n",
       "\n",
       "    .dataframe tbody tr th {\n",
       "        vertical-align: top;\n",
       "    }\n",
       "\n",
       "    .dataframe thead th {\n",
       "        text-align: right;\n",
       "    }\n",
       "</style>\n",
       "<table border=\"1\" class=\"dataframe\">\n",
       "  <thead>\n",
       "    <tr style=\"text-align: right;\">\n",
       "      <th></th>\n",
       "      <th>Hashtag</th>\n",
       "      <th>Source</th>\n",
       "    </tr>\n",
       "  </thead>\n",
       "  <tbody>\n",
       "    <tr>\n",
       "      <th>0</th>\n",
       "      <td>trudeauisadog</td>\n",
       "      <td>roman</td>\n",
       "    </tr>\n",
       "    <tr>\n",
       "      <th>1</th>\n",
       "      <td>HockeyHair</td>\n",
       "      <td>roman</td>\n",
       "    </tr>\n",
       "    <tr>\n",
       "      <th>2</th>\n",
       "      <td>DrKJayakumar</td>\n",
       "      <td>roman</td>\n",
       "    </tr>\n",
       "    <tr>\n",
       "      <th>3</th>\n",
       "      <td>Episode1373</td>\n",
       "      <td>roman</td>\n",
       "    </tr>\n",
       "    <tr>\n",
       "      <th>4</th>\n",
       "      <td>1stResponder</td>\n",
       "      <td>roman</td>\n",
       "    </tr>\n",
       "  </tbody>\n",
       "</table>\n",
       "</div>"
      ],
      "text/plain": [
       "         Hashtag Source\n",
       "0  trudeauisadog  roman\n",
       "1     HockeyHair  roman\n",
       "2   DrKJayakumar  roman\n",
       "3    Episode1373  roman\n",
       "4   1stResponder  roman"
      ]
     },
     "execution_count": 4,
     "metadata": {},
     "output_type": "execute_result"
    }
   ],
   "source": [
    "df_source = pd.read_csv('multi_token_hashtags_with_source.tsv', header=None, sep='\\t')\n",
    "df_source.columns = ['Hashtag', 'Source']\n",
    "df_source.head()"
   ]
  },
  {
   "cell_type": "code",
   "execution_count": 5,
   "metadata": {},
   "outputs": [
    {
     "data": {
      "text/html": [
       "<div>\n",
       "<style scoped>\n",
       "    .dataframe tbody tr th:only-of-type {\n",
       "        vertical-align: middle;\n",
       "    }\n",
       "\n",
       "    .dataframe tbody tr th {\n",
       "        vertical-align: top;\n",
       "    }\n",
       "\n",
       "    .dataframe thead th {\n",
       "        text-align: right;\n",
       "    }\n",
       "</style>\n",
       "<table border=\"1\" class=\"dataframe\">\n",
       "  <thead>\n",
       "    <tr style=\"text-align: right;\">\n",
       "      <th></th>\n",
       "      <th>Hashtag</th>\n",
       "      <th>1</th>\n",
       "      <th>2</th>\n",
       "      <th>3</th>\n",
       "      <th>4</th>\n",
       "      <th>5</th>\n",
       "      <th>6</th>\n",
       "      <th>7</th>\n",
       "      <th>8</th>\n",
       "      <th>9</th>\n",
       "      <th>10</th>\n",
       "      <th>Source</th>\n",
       "    </tr>\n",
       "  </thead>\n",
       "  <tbody>\n",
       "    <tr>\n",
       "      <th>0</th>\n",
       "      <td>trudeauisadog</td>\n",
       "      <td>trudeauisadog</td>\n",
       "      <td>trudeau is a dog</td>\n",
       "      <td>trudeauisado g</td>\n",
       "      <td>trudeauisa dog</td>\n",
       "      <td>t rudeauisadog</td>\n",
       "      <td>trudeauisad og</td>\n",
       "      <td>tr udeauisadog</td>\n",
       "      <td>trudeau isadog</td>\n",
       "      <td>tru deauisadog</td>\n",
       "      <td>trude auisadog</td>\n",
       "      <td>roman</td>\n",
       "    </tr>\n",
       "    <tr>\n",
       "      <th>1</th>\n",
       "      <td>trudeauisadog</td>\n",
       "      <td>trudeauisadog</td>\n",
       "      <td>trudeau is a dog</td>\n",
       "      <td>trudeauisado g</td>\n",
       "      <td>trudeauisa dog</td>\n",
       "      <td>t rudeauisadog</td>\n",
       "      <td>trudeauisad og</td>\n",
       "      <td>tr udeauisadog</td>\n",
       "      <td>trudeau isadog</td>\n",
       "      <td>tru deauisadog</td>\n",
       "      <td>trude auisadog</td>\n",
       "      <td>election</td>\n",
       "    </tr>\n",
       "    <tr>\n",
       "      <th>2</th>\n",
       "      <td>trudeauisadog</td>\n",
       "      <td>trudeauisadog</td>\n",
       "      <td>trudeau is a dog</td>\n",
       "      <td>trudeauisado g</td>\n",
       "      <td>trudeauisa dog</td>\n",
       "      <td>t rudeauisadog</td>\n",
       "      <td>trudeauisad og</td>\n",
       "      <td>tr udeauisadog</td>\n",
       "      <td>trudeau isadog</td>\n",
       "      <td>tru deauisadog</td>\n",
       "      <td>trude auisadog</td>\n",
       "      <td>roman</td>\n",
       "    </tr>\n",
       "    <tr>\n",
       "      <th>3</th>\n",
       "      <td>trudeauisadog</td>\n",
       "      <td>trudeauisadog</td>\n",
       "      <td>trudeau is a dog</td>\n",
       "      <td>trudeauisado g</td>\n",
       "      <td>trudeauisa dog</td>\n",
       "      <td>t rudeauisadog</td>\n",
       "      <td>trudeauisad og</td>\n",
       "      <td>tr udeauisadog</td>\n",
       "      <td>trudeau isadog</td>\n",
       "      <td>tru deauisadog</td>\n",
       "      <td>trude auisadog</td>\n",
       "      <td>election</td>\n",
       "    </tr>\n",
       "    <tr>\n",
       "      <th>4</th>\n",
       "      <td>Malabon</td>\n",
       "      <td>Malabon</td>\n",
       "      <td>Malab on</td>\n",
       "      <td>Mala bon</td>\n",
       "      <td>Ma labon</td>\n",
       "      <td>Malabo n</td>\n",
       "      <td>Ma lab on</td>\n",
       "      <td>Mala b on</td>\n",
       "      <td>Mal abon</td>\n",
       "      <td>Mal ab on</td>\n",
       "      <td>Mal a bon</td>\n",
       "      <td>roman</td>\n",
       "    </tr>\n",
       "  </tbody>\n",
       "</table>\n",
       "</div>"
      ],
      "text/plain": [
       "         Hashtag              1                 2               3  \\\n",
       "0  trudeauisadog  trudeauisadog  trudeau is a dog  trudeauisado g   \n",
       "1  trudeauisadog  trudeauisadog  trudeau is a dog  trudeauisado g   \n",
       "2  trudeauisadog  trudeauisadog  trudeau is a dog  trudeauisado g   \n",
       "3  trudeauisadog  trudeauisadog  trudeau is a dog  trudeauisado g   \n",
       "4        Malabon        Malabon          Malab on        Mala bon   \n",
       "\n",
       "                4               5               6               7  \\\n",
       "0  trudeauisa dog  t rudeauisadog  trudeauisad og  tr udeauisadog   \n",
       "1  trudeauisa dog  t rudeauisadog  trudeauisad og  tr udeauisadog   \n",
       "2  trudeauisa dog  t rudeauisadog  trudeauisad og  tr udeauisadog   \n",
       "3  trudeauisa dog  t rudeauisadog  trudeauisad og  tr udeauisadog   \n",
       "4        Ma labon        Malabo n       Ma lab on       Mala b on   \n",
       "\n",
       "                8               9              10    Source  \n",
       "0  trudeau isadog  tru deauisadog  trude auisadog     roman  \n",
       "1  trudeau isadog  tru deauisadog  trude auisadog  election  \n",
       "2  trudeau isadog  tru deauisadog  trude auisadog     roman  \n",
       "3  trudeau isadog  tru deauisadog  trude auisadog  election  \n",
       "4        Mal abon       Mal ab on       Mal a bon     roman  "
      ]
     },
     "execution_count": 5,
     "metadata": {},
     "output_type": "execute_result"
    }
   ],
   "source": [
    "df_final = pd.merge(df, df_source, on=['Hashtag'])\n",
    "df_final.head()"
   ]
  },
  {
   "cell_type": "code",
   "execution_count": 6,
   "metadata": {},
   "outputs": [
    {
     "data": {
      "text/plain": [
       "901228"
      ]
     },
     "execution_count": 6,
     "metadata": {},
     "output_type": "execute_result"
    }
   ],
   "source": [
    "len(df_final)"
   ]
  },
  {
   "cell_type": "code",
   "execution_count": 7,
   "metadata": {},
   "outputs": [],
   "source": [
    "df_final.to_csv('finalSegmented_withSource.csv')"
   ]
  },
  {
   "cell_type": "code",
   "execution_count": null,
   "metadata": {},
   "outputs": [],
   "source": []
  }
 ],
 "metadata": {
  "kernelspec": {
   "display_name": "Python 3",
   "language": "python",
   "name": "python3"
  },
  "language_info": {
   "codemirror_mode": {
    "name": "ipython",
    "version": 3
   },
   "file_extension": ".py",
   "mimetype": "text/x-python",
   "name": "python",
   "nbconvert_exporter": "python",
   "pygments_lexer": "ipython3",
   "version": "3.6.5"
  }
 },
 "nbformat": 4,
 "nbformat_minor": 4
}

{
 "cells": [
  {
   "cell_type": "code",
   "execution_count": 95,
   "metadata": {},
   "outputs": [],
   "source": [
    "import pickle \n",
    "import enchant"
   ]
  },
  {
   "cell_type": "markdown",
   "metadata": {},
   "source": [
    "# Multi Token"
   ]
  },
  {
   "cell_type": "code",
   "execution_count": 105,
   "metadata": {},
   "outputs": [],
   "source": [
    "open_file = open('set_romanHTs.pkl', \"rb\")\n",
    "hashtags = pickle.load(open_file)\n",
    "open_file.close()"
   ]
  },
  {
   "cell_type": "code",
   "execution_count": 106,
   "metadata": {},
   "outputs": [
    {
     "data": {
      "text/plain": [
       "7861"
      ]
     },
     "execution_count": 106,
     "metadata": {},
     "output_type": "execute_result"
    }
   ],
   "source": [
    "len(hashtags)"
   ]
  },
  {
   "cell_type": "code",
   "execution_count": 107,
   "metadata": {},
   "outputs": [
    {
     "data": {
      "text/plain": [
       "7861"
      ]
     },
     "execution_count": 107,
     "metadata": {},
     "output_type": "execute_result"
    }
   ],
   "source": [
    "h1 = set(hashtags)\n",
    "len(h1)"
   ]
  },
  {
   "cell_type": "code",
   "execution_count": 108,
   "metadata": {},
   "outputs": [],
   "source": [
    "english_dict = enchant.Dict(\"en_US\")"
   ]
  },
  {
   "cell_type": "code",
   "execution_count": 109,
   "metadata": {},
   "outputs": [],
   "source": [
    "single_eng = []\n",
    "rest = []\n",
    "for elt in hashtags:\n",
    "    if english_dict.check(elt.lower()):\n",
    "        single_eng.append(elt)\n",
    "    else:\n",
    "        rest.append(elt)"
   ]
  },
  {
   "cell_type": "code",
   "execution_count": 110,
   "metadata": {},
   "outputs": [
    {
     "data": {
      "text/plain": [
       "166"
      ]
     },
     "execution_count": 110,
     "metadata": {},
     "output_type": "execute_result"
    }
   ],
   "source": [
    "len(single_eng)"
   ]
  },
  {
   "cell_type": "code",
   "execution_count": 111,
   "metadata": {},
   "outputs": [
    {
     "data": {
      "text/plain": [
       "7695"
      ]
     },
     "execution_count": 111,
     "metadata": {},
     "output_type": "execute_result"
    }
   ],
   "source": [
    "len(rest)"
   ]
  },
  {
   "cell_type": "code",
   "execution_count": 112,
   "metadata": {},
   "outputs": [
    {
     "data": {
      "text/plain": [
       "7695"
      ]
     },
     "execution_count": 112,
     "metadata": {},
     "output_type": "execute_result"
    }
   ],
   "source": [
    "multi_token1 = set(rest)\n",
    "len(multi_token1)"
   ]
  },
  {
   "cell_type": "code",
   "execution_count": 8,
   "metadata": {},
   "outputs": [],
   "source": [
    "import csv\n",
    "outputStr = \"\"\n",
    "for elt in rest: \n",
    "    outputStr += elt + \"\\t\" + \"roman\" + \"\\n\"\n",
    "\n",
    "with open('multi_token_hashtags_with_source.tsv', 'w', newline='') as f_output:\n",
    "    f_output.write(outputStr)"
   ]
  },
  {
   "cell_type": "code",
   "execution_count": 113,
   "metadata": {},
   "outputs": [],
   "source": [
    "open_file = open('set_electionHTs.pkl', \"rb\")\n",
    "hashtags = pickle.load(open_file)\n",
    "open_file.close()"
   ]
  },
  {
   "cell_type": "code",
   "execution_count": 114,
   "metadata": {},
   "outputs": [
    {
     "data": {
      "text/plain": [
       "720348"
      ]
     },
     "execution_count": 114,
     "metadata": {},
     "output_type": "execute_result"
    }
   ],
   "source": [
    "len(hashtags)"
   ]
  },
  {
   "cell_type": "code",
   "execution_count": 115,
   "metadata": {},
   "outputs": [
    {
     "data": {
      "text/plain": [
       "720348"
      ]
     },
     "execution_count": 115,
     "metadata": {},
     "output_type": "execute_result"
    }
   ],
   "source": [
    "h2 = set(hashtags)\n",
    "len(h2)"
   ]
  },
  {
   "cell_type": "code",
   "execution_count": 116,
   "metadata": {},
   "outputs": [
    {
     "name": "stdout",
     "output_type": "stream",
     "text": [
      "Total number of hashtags collected: 726358\n"
     ]
    }
   ],
   "source": [
    "print('Total number of hashtags collected:', len(h1.union(h2)))"
   ]
  },
  {
   "cell_type": "code",
   "execution_count": 117,
   "metadata": {},
   "outputs": [],
   "source": [
    "single_eng = []\n",
    "rest = []\n",
    "for elt in hashtags:\n",
    "    if english_dict.check(elt.lower()):\n",
    "        single_eng.append(elt)\n",
    "    else:\n",
    "        rest.append(elt)"
   ]
  },
  {
   "cell_type": "code",
   "execution_count": 118,
   "metadata": {},
   "outputs": [
    {
     "data": {
      "text/plain": [
       "40129"
      ]
     },
     "execution_count": 118,
     "metadata": {},
     "output_type": "execute_result"
    }
   ],
   "source": [
    "len(single_eng)"
   ]
  },
  {
   "cell_type": "code",
   "execution_count": 119,
   "metadata": {},
   "outputs": [
    {
     "data": {
      "text/plain": [
       "680219"
      ]
     },
     "execution_count": 119,
     "metadata": {},
     "output_type": "execute_result"
    }
   ],
   "source": [
    "len(rest)"
   ]
  },
  {
   "cell_type": "code",
   "execution_count": 120,
   "metadata": {},
   "outputs": [
    {
     "data": {
      "text/plain": [
       "680219"
      ]
     },
     "execution_count": 120,
     "metadata": {},
     "output_type": "execute_result"
    }
   ],
   "source": [
    "multi_token2 = set(rest)\n",
    "len(multi_token2)"
   ]
  },
  {
   "cell_type": "code",
   "execution_count": 121,
   "metadata": {},
   "outputs": [
    {
     "name": "stdout",
     "output_type": "stream",
     "text": [
      "Total number of multi token hashtags collected: 686208\n"
     ]
    }
   ],
   "source": [
    "print('Total number of multi token hashtags collected:', len(multi_token1.union(multi_token2)))"
   ]
  },
  {
   "cell_type": "code",
   "execution_count": 14,
   "metadata": {},
   "outputs": [],
   "source": [
    "import csv\n",
    "outputStr = \"\"\n",
    "for elt in rest: \n",
    "    outputStr += elt + \"\\t\" + \"election\" \"\\n\"\n",
    "\n",
    "with open('multi_token_hashtags_with_source.tsv', 'a', newline='') as f_output:\n",
    "    f_output.write(outputStr + \"\\t\" + \"roman\")"
   ]
  },
  {
   "cell_type": "markdown",
   "metadata": {},
   "source": [
    "# Non Separable"
   ]
  },
  {
   "cell_type": "code",
   "execution_count": 15,
   "metadata": {},
   "outputs": [],
   "source": [
    "import pandas as pd\n",
    "import re "
   ]
  },
  {
   "cell_type": "code",
   "execution_count": 158,
   "metadata": {},
   "outputs": [
    {
     "data": {
      "text/html": [
       "<div>\n",
       "<style scoped>\n",
       "    .dataframe tbody tr th:only-of-type {\n",
       "        vertical-align: middle;\n",
       "    }\n",
       "\n",
       "    .dataframe tbody tr th {\n",
       "        vertical-align: top;\n",
       "    }\n",
       "\n",
       "    .dataframe thead th {\n",
       "        text-align: right;\n",
       "    }\n",
       "</style>\n",
       "<table border=\"1\" class=\"dataframe\">\n",
       "  <thead>\n",
       "    <tr style=\"text-align: right;\">\n",
       "      <th></th>\n",
       "      <th>Hashtag</th>\n",
       "      <th>Source</th>\n",
       "    </tr>\n",
       "  </thead>\n",
       "  <tbody>\n",
       "    <tr>\n",
       "      <th>0</th>\n",
       "      <td>TXTWeLoveYou</td>\n",
       "      <td>roman</td>\n",
       "    </tr>\n",
       "    <tr>\n",
       "      <th>1</th>\n",
       "      <td>varunchakaravarthy</td>\n",
       "      <td>roman</td>\n",
       "    </tr>\n",
       "    <tr>\n",
       "      <th>2</th>\n",
       "      <td>SuvanConfession</td>\n",
       "      <td>roman</td>\n",
       "    </tr>\n",
       "    <tr>\n",
       "      <th>3</th>\n",
       "      <td>endbengalviolence</td>\n",
       "      <td>roman</td>\n",
       "    </tr>\n",
       "    <tr>\n",
       "      <th>4</th>\n",
       "      <td>MirzaGhalib</td>\n",
       "      <td>roman</td>\n",
       "    </tr>\n",
       "  </tbody>\n",
       "</table>\n",
       "</div>"
      ],
      "text/plain": [
       "              Hashtag Source\n",
       "0        TXTWeLoveYou  roman\n",
       "1  varunchakaravarthy  roman\n",
       "2     SuvanConfession  roman\n",
       "3   endbengalviolence  roman\n",
       "4         MirzaGhalib  roman"
      ]
     },
     "execution_count": 158,
     "metadata": {},
     "output_type": "execute_result"
    }
   ],
   "source": [
    "df = pd.read_csv('multi_token_hashtags_with_source.tsv', header=None, sep='\\t')\n",
    "df.columns = ['Hashtag', 'Source']\n",
    "df.head()"
   ]
  },
  {
   "cell_type": "code",
   "execution_count": 159,
   "metadata": {},
   "outputs": [
    {
     "data": {
      "text/plain": [
       "686206"
      ]
     },
     "execution_count": 159,
     "metadata": {},
     "output_type": "execute_result"
    }
   ],
   "source": [
    "df = df.dropna()\n",
    "len(df)"
   ]
  },
  {
   "cell_type": "code",
   "execution_count": 160,
   "metadata": {},
   "outputs": [
    {
     "data": {
      "text/plain": [
       "686206"
      ]
     },
     "execution_count": 160,
     "metadata": {},
     "output_type": "execute_result"
    }
   ],
   "source": [
    "df = df.drop_duplicates(subset =\"Hashtag\")\n",
    "len(df)"
   ]
  },
  {
   "cell_type": "code",
   "execution_count": 162,
   "metadata": {},
   "outputs": [],
   "source": [
    "df.to_csv('multi_token_hashtags_with_source.tsv', header=None, sep='\\t', index=False)"
   ]
  },
  {
   "cell_type": "code",
   "execution_count": 18,
   "metadata": {},
   "outputs": [],
   "source": [
    "def camelCase_split(string):\n",
    "    splitted = re.finditer('.+?(?:(?<=[a-z])(?=[A-Z])|(?<=[A-Z])(?=[A-Z][a-z])|$)', string)\n",
    "    splitted_list = [m.group(0) for m in splitted]\n",
    "    return ' '.join(splitted_list)"
   ]
  },
  {
   "cell_type": "code",
   "execution_count": 19,
   "metadata": {},
   "outputs": [
    {
     "data": {
      "text/plain": [
       "'Hello Akshala Bhatnagar'"
      ]
     },
     "execution_count": 19,
     "metadata": {},
     "output_type": "execute_result"
    }
   ],
   "source": [
    "camelCase_split('HelloAkshalaBhatnagar')"
   ]
  },
  {
   "cell_type": "code",
   "execution_count": 20,
   "metadata": {},
   "outputs": [],
   "source": [
    "def underscore_split(string):\n",
    "    splitted_list = string.split('_')\n",
    "    return ' '.join(splitted_list)"
   ]
  },
  {
   "cell_type": "code",
   "execution_count": 21,
   "metadata": {},
   "outputs": [
    {
     "data": {
      "text/plain": [
       "'hello Akshala Bhatnagar'"
      ]
     },
     "execution_count": 21,
     "metadata": {},
     "output_type": "execute_result"
    }
   ],
   "source": [
    "underscore_split('hello_Akshala Bhatnagar')"
   ]
  },
  {
   "cell_type": "code",
   "execution_count": 22,
   "metadata": {},
   "outputs": [],
   "source": [
    "not_separable = pd.DataFrame(columns=['Hashtag', 'Source'])"
   ]
  },
  {
   "cell_type": "code",
   "execution_count": 23,
   "metadata": {},
   "outputs": [],
   "source": [
    "separable = pd.DataFrame(columns=['Hashtag', 'Source'])"
   ]
  },
  {
   "cell_type": "code",
   "execution_count": 24,
   "metadata": {},
   "outputs": [],
   "source": [
    "not_separable_count = 0\n",
    "separable_count = 0\n",
    "for index, row in df.iterrows():\n",
    "    camel_case_separated = camelCase_split(row['Hashtag'])\n",
    "    final_separated = underscore_split(camel_case_separated)\n",
    "    if final_separated == row['Hashtag']:\n",
    "        not_separable = not_separable.append(row)\n",
    "        not_separable_count += 1\n",
    "    else:\n",
    "        separable.loc[separable_count] = [final_separated, row['Source']]\n",
    "        separable_count += 1"
   ]
  },
  {
   "cell_type": "code",
   "execution_count": 25,
   "metadata": {},
   "outputs": [
    {
     "data": {
      "text/html": [
       "<div>\n",
       "<style scoped>\n",
       "    .dataframe tbody tr th:only-of-type {\n",
       "        vertical-align: middle;\n",
       "    }\n",
       "\n",
       "    .dataframe tbody tr th {\n",
       "        vertical-align: top;\n",
       "    }\n",
       "\n",
       "    .dataframe thead th {\n",
       "        text-align: right;\n",
       "    }\n",
       "</style>\n",
       "<table border=\"1\" class=\"dataframe\">\n",
       "  <thead>\n",
       "    <tr style=\"text-align: right;\">\n",
       "      <th></th>\n",
       "      <th>Hashtag</th>\n",
       "      <th>Source</th>\n",
       "    </tr>\n",
       "  </thead>\n",
       "  <tbody>\n",
       "    <tr>\n",
       "      <th>1</th>\n",
       "      <td>varunchakaravarthy</td>\n",
       "      <td>roman</td>\n",
       "    </tr>\n",
       "    <tr>\n",
       "      <th>3</th>\n",
       "      <td>endbengalviolence</td>\n",
       "      <td>roman</td>\n",
       "    </tr>\n",
       "    <tr>\n",
       "      <th>6</th>\n",
       "      <td>avfc</td>\n",
       "      <td>roman</td>\n",
       "    </tr>\n",
       "    <tr>\n",
       "      <th>8</th>\n",
       "      <td>merryxmas</td>\n",
       "      <td>roman</td>\n",
       "    </tr>\n",
       "    <tr>\n",
       "      <th>9</th>\n",
       "      <td>Arya30</td>\n",
       "      <td>roman</td>\n",
       "    </tr>\n",
       "  </tbody>\n",
       "</table>\n",
       "</div>"
      ],
      "text/plain": [
       "              Hashtag Source\n",
       "1  varunchakaravarthy  roman\n",
       "3   endbengalviolence  roman\n",
       "6                avfc  roman\n",
       "8           merryxmas  roman\n",
       "9              Arya30  roman"
      ]
     },
     "execution_count": 25,
     "metadata": {},
     "output_type": "execute_result"
    }
   ],
   "source": [
    "not_separable.drop_duplicates(keep = False, inplace = True) \n",
    "not_separable.head()"
   ]
  },
  {
   "cell_type": "code",
   "execution_count": 26,
   "metadata": {},
   "outputs": [
    {
     "data": {
      "text/plain": [
       "337156"
      ]
     },
     "execution_count": 26,
     "metadata": {},
     "output_type": "execute_result"
    }
   ],
   "source": [
    "len(not_separable)"
   ]
  },
  {
   "cell_type": "code",
   "execution_count": 27,
   "metadata": {},
   "outputs": [
    {
     "data": {
      "text/html": [
       "<div>\n",
       "<style scoped>\n",
       "    .dataframe tbody tr th:only-of-type {\n",
       "        vertical-align: middle;\n",
       "    }\n",
       "\n",
       "    .dataframe tbody tr th {\n",
       "        vertical-align: top;\n",
       "    }\n",
       "\n",
       "    .dataframe thead th {\n",
       "        text-align: right;\n",
       "    }\n",
       "</style>\n",
       "<table border=\"1\" class=\"dataframe\">\n",
       "  <thead>\n",
       "    <tr style=\"text-align: right;\">\n",
       "      <th></th>\n",
       "      <th>Hashtag</th>\n",
       "      <th>Source</th>\n",
       "    </tr>\n",
       "  </thead>\n",
       "  <tbody>\n",
       "    <tr>\n",
       "      <th>0</th>\n",
       "      <td>TXT We Love You</td>\n",
       "      <td>roman</td>\n",
       "    </tr>\n",
       "    <tr>\n",
       "      <th>1</th>\n",
       "      <td>Suvan Confession</td>\n",
       "      <td>roman</td>\n",
       "    </tr>\n",
       "    <tr>\n",
       "      <th>2</th>\n",
       "      <td>Mirza Ghalib</td>\n",
       "      <td>roman</td>\n",
       "    </tr>\n",
       "    <tr>\n",
       "      <th>3</th>\n",
       "      <td>Too Much Democracy</td>\n",
       "      <td>roman</td>\n",
       "    </tr>\n",
       "    <tr>\n",
       "      <th>4</th>\n",
       "      <td>Sahibzada Fateh Singh</td>\n",
       "      <td>roman</td>\n",
       "    </tr>\n",
       "  </tbody>\n",
       "</table>\n",
       "</div>"
      ],
      "text/plain": [
       "                 Hashtag Source\n",
       "0        TXT We Love You  roman\n",
       "1       Suvan Confession  roman\n",
       "2           Mirza Ghalib  roman\n",
       "3     Too Much Democracy  roman\n",
       "4  Sahibzada Fateh Singh  roman"
      ]
     },
     "execution_count": 27,
     "metadata": {},
     "output_type": "execute_result"
    }
   ],
   "source": [
    "separable.drop_duplicates(keep = False, inplace = True) \n",
    "separable.head()"
   ]
  },
  {
   "cell_type": "code",
   "execution_count": 28,
   "metadata": {},
   "outputs": [
    {
     "data": {
      "text/plain": [
       "342805"
      ]
     },
     "execution_count": 28,
     "metadata": {},
     "output_type": "execute_result"
    }
   ],
   "source": [
    "len(separable)"
   ]
  },
  {
   "cell_type": "code",
   "execution_count": 29,
   "metadata": {},
   "outputs": [],
   "source": [
    "not_separable.to_csv('not_separable_with_source.csv')"
   ]
  },
  {
   "cell_type": "code",
   "execution_count": 30,
   "metadata": {},
   "outputs": [],
   "source": [
    "separable.to_csv('separable_with_source.csv')"
   ]
  },
  {
   "cell_type": "code",
   "execution_count": 89,
   "metadata": {},
   "outputs": [],
   "source": [
    "not_separable = pd.read_csv('not_separable_with_source.csv')"
   ]
  },
  {
   "cell_type": "code",
   "execution_count": 91,
   "metadata": {},
   "outputs": [
    {
     "data": {
      "text/html": [
       "<div>\n",
       "<style scoped>\n",
       "    .dataframe tbody tr th:only-of-type {\n",
       "        vertical-align: middle;\n",
       "    }\n",
       "\n",
       "    .dataframe tbody tr th {\n",
       "        vertical-align: top;\n",
       "    }\n",
       "\n",
       "    .dataframe thead th {\n",
       "        text-align: right;\n",
       "    }\n",
       "</style>\n",
       "<table border=\"1\" class=\"dataframe\">\n",
       "  <thead>\n",
       "    <tr style=\"text-align: right;\">\n",
       "      <th></th>\n",
       "      <th>Unnamed: 0</th>\n",
       "      <th>Hashtag</th>\n",
       "      <th>Source</th>\n",
       "    </tr>\n",
       "  </thead>\n",
       "  <tbody>\n",
       "    <tr>\n",
       "      <th>0</th>\n",
       "      <td>1</td>\n",
       "      <td>varunchakaravarthy</td>\n",
       "      <td>roman</td>\n",
       "    </tr>\n",
       "    <tr>\n",
       "      <th>1</th>\n",
       "      <td>3</td>\n",
       "      <td>endbengalviolence</td>\n",
       "      <td>roman</td>\n",
       "    </tr>\n",
       "    <tr>\n",
       "      <th>2</th>\n",
       "      <td>6</td>\n",
       "      <td>avfc</td>\n",
       "      <td>roman</td>\n",
       "    </tr>\n",
       "    <tr>\n",
       "      <th>3</th>\n",
       "      <td>8</td>\n",
       "      <td>merryxmas</td>\n",
       "      <td>roman</td>\n",
       "    </tr>\n",
       "    <tr>\n",
       "      <th>4</th>\n",
       "      <td>9</td>\n",
       "      <td>Arya30</td>\n",
       "      <td>roman</td>\n",
       "    </tr>\n",
       "  </tbody>\n",
       "</table>\n",
       "</div>"
      ],
      "text/plain": [
       "   Unnamed: 0             Hashtag Source\n",
       "0           1  varunchakaravarthy  roman\n",
       "1           3   endbengalviolence  roman\n",
       "2           6                avfc  roman\n",
       "3           8           merryxmas  roman\n",
       "4           9              Arya30  roman"
      ]
     },
     "execution_count": 91,
     "metadata": {},
     "output_type": "execute_result"
    }
   ],
   "source": [
    "not_separable = not_separable.drop_duplicates(subset =\"Hashtag\")\n",
    "not_separable.head()"
   ]
  },
  {
   "cell_type": "code",
   "execution_count": 131,
   "metadata": {},
   "outputs": [
    {
     "name": "stdout",
     "output_type": "stream",
     "text": [
      "Multi token not separable hashtags: 336312\n"
     ]
    }
   ],
   "source": [
    "print('Multi token not separable hashtags:', len(not_separable))"
   ]
  },
  {
   "cell_type": "code",
   "execution_count": 94,
   "metadata": {},
   "outputs": [],
   "source": [
    "not_separable.to_csv('not_separable_with_source.csv')"
   ]
  },
  {
   "cell_type": "code",
   "execution_count": 126,
   "metadata": {},
   "outputs": [],
   "source": [
    "separable = pd.read_csv('separable_with_source.csv')"
   ]
  },
  {
   "cell_type": "code",
   "execution_count": 127,
   "metadata": {},
   "outputs": [
    {
     "data": {
      "text/html": [
       "<div>\n",
       "<style scoped>\n",
       "    .dataframe tbody tr th:only-of-type {\n",
       "        vertical-align: middle;\n",
       "    }\n",
       "\n",
       "    .dataframe tbody tr th {\n",
       "        vertical-align: top;\n",
       "    }\n",
       "\n",
       "    .dataframe thead th {\n",
       "        text-align: right;\n",
       "    }\n",
       "</style>\n",
       "<table border=\"1\" class=\"dataframe\">\n",
       "  <thead>\n",
       "    <tr style=\"text-align: right;\">\n",
       "      <th></th>\n",
       "      <th>Unnamed: 0</th>\n",
       "      <th>Hashtag</th>\n",
       "      <th>Source</th>\n",
       "    </tr>\n",
       "  </thead>\n",
       "  <tbody>\n",
       "    <tr>\n",
       "      <th>0</th>\n",
       "      <td>0</td>\n",
       "      <td>TXT We Love You</td>\n",
       "      <td>roman</td>\n",
       "    </tr>\n",
       "    <tr>\n",
       "      <th>1</th>\n",
       "      <td>1</td>\n",
       "      <td>Suvan Confession</td>\n",
       "      <td>roman</td>\n",
       "    </tr>\n",
       "    <tr>\n",
       "      <th>2</th>\n",
       "      <td>2</td>\n",
       "      <td>Mirza Ghalib</td>\n",
       "      <td>roman</td>\n",
       "    </tr>\n",
       "    <tr>\n",
       "      <th>3</th>\n",
       "      <td>3</td>\n",
       "      <td>Too Much Democracy</td>\n",
       "      <td>roman</td>\n",
       "    </tr>\n",
       "    <tr>\n",
       "      <th>4</th>\n",
       "      <td>4</td>\n",
       "      <td>Sahibzada Fateh Singh</td>\n",
       "      <td>roman</td>\n",
       "    </tr>\n",
       "  </tbody>\n",
       "</table>\n",
       "</div>"
      ],
      "text/plain": [
       "   Unnamed: 0                Hashtag Source\n",
       "0           0        TXT We Love You  roman\n",
       "1           1       Suvan Confession  roman\n",
       "2           2           Mirza Ghalib  roman\n",
       "3           3     Too Much Democracy  roman\n",
       "4           4  Sahibzada Fateh Singh  roman"
      ]
     },
     "execution_count": 127,
     "metadata": {},
     "output_type": "execute_result"
    }
   ],
   "source": [
    "separable = separable.drop_duplicates(subset =\"Hashtag\")\n",
    "separable.head()"
   ]
  },
  {
   "cell_type": "code",
   "execution_count": 128,
   "metadata": {},
   "outputs": [
    {
     "data": {
      "text/plain": [
       "342051"
      ]
     },
     "execution_count": 128,
     "metadata": {},
     "output_type": "execute_result"
    }
   ],
   "source": [
    "len(separable)"
   ]
  },
  {
   "cell_type": "code",
   "execution_count": 129,
   "metadata": {},
   "outputs": [],
   "source": [
    "separable.to_csv('separable_with_source.csv')"
   ]
  },
  {
   "cell_type": "markdown",
   "metadata": {},
   "source": [
    "# Non eng"
   ]
  },
  {
   "cell_type": "code",
   "execution_count": 31,
   "metadata": {},
   "outputs": [],
   "source": [
    "not_seaparable_hashtags = pd.read_csv('not_separable_with_source.csv')"
   ]
  },
  {
   "cell_type": "code",
   "execution_count": 32,
   "metadata": {},
   "outputs": [
    {
     "data": {
      "text/plain": [
       "pandas.core.series.Series"
      ]
     },
     "execution_count": 32,
     "metadata": {},
     "output_type": "execute_result"
    }
   ],
   "source": [
    "not_seaparable_hashtags = not_separable['Hashtag']\n",
    "type(not_seaparable_hashtags)"
   ]
  },
  {
   "cell_type": "code",
   "execution_count": 33,
   "metadata": {},
   "outputs": [],
   "source": [
    "not_seaparable_hashtags.to_csv('not_separable_hashtags_with_source.tsv', sep='\\t')"
   ]
  },
  {
   "cell_type": "code",
   "execution_count": 34,
   "metadata": {},
   "outputs": [
    {
     "data": {
      "text/html": [
       "<div>\n",
       "<style scoped>\n",
       "    .dataframe tbody tr th:only-of-type {\n",
       "        vertical-align: middle;\n",
       "    }\n",
       "\n",
       "    .dataframe tbody tr th {\n",
       "        vertical-align: top;\n",
       "    }\n",
       "\n",
       "    .dataframe thead th {\n",
       "        text-align: right;\n",
       "    }\n",
       "</style>\n",
       "<table border=\"1\" class=\"dataframe\">\n",
       "  <thead>\n",
       "    <tr style=\"text-align: right;\">\n",
       "      <th></th>\n",
       "      <th>Unnamed: 0</th>\n",
       "      <th>Hashtag</th>\n",
       "    </tr>\n",
       "  </thead>\n",
       "  <tbody>\n",
       "    <tr>\n",
       "      <th>0</th>\n",
       "      <td>1</td>\n",
       "      <td>varunchakaravarthy</td>\n",
       "    </tr>\n",
       "    <tr>\n",
       "      <th>1</th>\n",
       "      <td>3</td>\n",
       "      <td>endbengalviolence</td>\n",
       "    </tr>\n",
       "    <tr>\n",
       "      <th>2</th>\n",
       "      <td>6</td>\n",
       "      <td>avfc</td>\n",
       "    </tr>\n",
       "    <tr>\n",
       "      <th>3</th>\n",
       "      <td>8</td>\n",
       "      <td>merryxmas</td>\n",
       "    </tr>\n",
       "    <tr>\n",
       "      <th>4</th>\n",
       "      <td>9</td>\n",
       "      <td>Arya30</td>\n",
       "    </tr>\n",
       "  </tbody>\n",
       "</table>\n",
       "</div>"
      ],
      "text/plain": [
       "   Unnamed: 0             Hashtag\n",
       "0           1  varunchakaravarthy\n",
       "1           3   endbengalviolence\n",
       "2           6                avfc\n",
       "3           8           merryxmas\n",
       "4           9              Arya30"
      ]
     },
     "execution_count": 34,
     "metadata": {},
     "output_type": "execute_result"
    }
   ],
   "source": [
    "df = pd.read_csv('not_separable_hashtags_with_source.tsv', sep='\\t')\n",
    "df.head()"
   ]
  },
  {
   "cell_type": "code",
   "execution_count": 35,
   "metadata": {},
   "outputs": [
    {
     "data": {
      "text/html": [
       "<div>\n",
       "<style scoped>\n",
       "    .dataframe tbody tr th:only-of-type {\n",
       "        vertical-align: middle;\n",
       "    }\n",
       "\n",
       "    .dataframe tbody tr th {\n",
       "        vertical-align: top;\n",
       "    }\n",
       "\n",
       "    .dataframe thead th {\n",
       "        text-align: right;\n",
       "    }\n",
       "</style>\n",
       "<table border=\"1\" class=\"dataframe\">\n",
       "  <thead>\n",
       "    <tr style=\"text-align: right;\">\n",
       "      <th></th>\n",
       "      <th>Hashtag</th>\n",
       "    </tr>\n",
       "  </thead>\n",
       "  <tbody>\n",
       "    <tr>\n",
       "      <th>0</th>\n",
       "      <td>varunchakaravarthy</td>\n",
       "    </tr>\n",
       "    <tr>\n",
       "      <th>1</th>\n",
       "      <td>endbengalviolence</td>\n",
       "    </tr>\n",
       "    <tr>\n",
       "      <th>2</th>\n",
       "      <td>avfc</td>\n",
       "    </tr>\n",
       "    <tr>\n",
       "      <th>3</th>\n",
       "      <td>merryxmas</td>\n",
       "    </tr>\n",
       "    <tr>\n",
       "      <th>4</th>\n",
       "      <td>Arya30</td>\n",
       "    </tr>\n",
       "  </tbody>\n",
       "</table>\n",
       "</div>"
      ],
      "text/plain": [
       "              Hashtag\n",
       "0  varunchakaravarthy\n",
       "1   endbengalviolence\n",
       "2                avfc\n",
       "3           merryxmas\n",
       "4              Arya30"
      ]
     },
     "execution_count": 35,
     "metadata": {},
     "output_type": "execute_result"
    }
   ],
   "source": [
    "df = df.drop('Unnamed: 0', axis=1)\n",
    "df.head()"
   ]
  },
  {
   "cell_type": "code",
   "execution_count": 36,
   "metadata": {},
   "outputs": [],
   "source": [
    "df.to_csv('not_separable_hashtags_with_source.tsv', sep='\\t', header=False, index=False)"
   ]
  },
  {
   "cell_type": "code",
   "execution_count": 37,
   "metadata": {},
   "outputs": [
    {
     "name": "stdout",
     "output_type": "stream",
     "text": [
      "Loading language model.\n",
      "Done.\n",
      "Extracting top segmentations.\n"
     ]
    }
   ],
   "source": [
    "!python hashtag_master-master/word_breaker/main.py --k 10 --lm hashtag_master-master/data/small_gt.bin --out not_separable_hashtags_with_source_topk.tsv --input not_separable_hashtags_with_source.tsv"
   ]
  },
  {
   "cell_type": "code",
   "execution_count": 38,
   "metadata": {},
   "outputs": [
    {
     "data": {
      "text/html": [
       "<div>\n",
       "<style scoped>\n",
       "    .dataframe tbody tr th:only-of-type {\n",
       "        vertical-align: middle;\n",
       "    }\n",
       "\n",
       "    .dataframe tbody tr th {\n",
       "        vertical-align: top;\n",
       "    }\n",
       "\n",
       "    .dataframe thead th {\n",
       "        text-align: right;\n",
       "    }\n",
       "</style>\n",
       "<table border=\"1\" class=\"dataframe\">\n",
       "  <thead>\n",
       "    <tr style=\"text-align: right;\">\n",
       "      <th></th>\n",
       "      <th>Hashtag</th>\n",
       "      <th>1</th>\n",
       "      <th>2</th>\n",
       "      <th>3</th>\n",
       "      <th>4</th>\n",
       "      <th>5</th>\n",
       "      <th>6</th>\n",
       "      <th>7</th>\n",
       "      <th>8</th>\n",
       "      <th>9</th>\n",
       "      <th>10</th>\n",
       "    </tr>\n",
       "  </thead>\n",
       "  <tbody>\n",
       "    <tr>\n",
       "      <th>0</th>\n",
       "      <td>varunchakaravarthy</td>\n",
       "      <td>varun cha kara var thy</td>\n",
       "      <td>varun chaka rava r thy</td>\n",
       "      <td>varun chaka ra var thy</td>\n",
       "      <td>varun chaka rava rt hy</td>\n",
       "      <td>varun chaka r a var thy</td>\n",
       "      <td>varun chaka rav art hy</td>\n",
       "      <td>varun chaka rav ar thy</td>\n",
       "      <td>varun ch akara var thy</td>\n",
       "      <td>varun chaka rava rt h y</td>\n",
       "      <td>varun cha kar a var thy</td>\n",
       "    </tr>\n",
       "    <tr>\n",
       "      <th>1</th>\n",
       "      <td>endbengalviolence</td>\n",
       "      <td>end bengal violence</td>\n",
       "      <td>en d bengal violence</td>\n",
       "      <td>e nd bengal violence</td>\n",
       "      <td>end ben gal violence</td>\n",
       "      <td>e n d bengal violence</td>\n",
       "      <td>end b engal violence</td>\n",
       "      <td>end benga l violence</td>\n",
       "      <td>end ben g a l violence</td>\n",
       "      <td>end beng al violence</td>\n",
       "      <td>end bengal violenc e</td>\n",
       "    </tr>\n",
       "    <tr>\n",
       "      <th>2</th>\n",
       "      <td>avfc</td>\n",
       "      <td>a vfc</td>\n",
       "      <td>av fc</td>\n",
       "      <td>a v fc</td>\n",
       "      <td>a vf c</td>\n",
       "      <td>av f c</td>\n",
       "      <td>a v f c</td>\n",
       "      <td>avfc</td>\n",
       "      <td>avf c</td>\n",
       "      <td>NaN</td>\n",
       "      <td>NaN</td>\n",
       "    </tr>\n",
       "    <tr>\n",
       "      <th>3</th>\n",
       "      <td>merryxmas</td>\n",
       "      <td>merry xmas</td>\n",
       "      <td>merry x mas</td>\n",
       "      <td>merry xm as</td>\n",
       "      <td>m erry xmas</td>\n",
       "      <td>me r r y xmas</td>\n",
       "      <td>merry x m as</td>\n",
       "      <td>merry xma s</td>\n",
       "      <td>mer ry xmas</td>\n",
       "      <td>me r r y x mas</td>\n",
       "      <td>merry xm a s</td>\n",
       "    </tr>\n",
       "    <tr>\n",
       "      <th>4</th>\n",
       "      <td>Arya30</td>\n",
       "      <td>Arya 30</td>\n",
       "      <td>Ary a 30</td>\n",
       "      <td>Ar ya 30</td>\n",
       "      <td>A r ya 30</td>\n",
       "      <td>A rya 30</td>\n",
       "      <td>A ry a 30</td>\n",
       "      <td>Arya 3 0</td>\n",
       "      <td>A r y a 30</td>\n",
       "      <td>Ar y a 30</td>\n",
       "      <td>Ar ya 3 0</td>\n",
       "    </tr>\n",
       "  </tbody>\n",
       "</table>\n",
       "</div>"
      ],
      "text/plain": [
       "              Hashtag                       1                       2  \\\n",
       "0  varunchakaravarthy  varun cha kara var thy  varun chaka rava r thy   \n",
       "1   endbengalviolence     end bengal violence    en d bengal violence   \n",
       "2                avfc                   a vfc                   av fc   \n",
       "3           merryxmas              merry xmas             merry x mas   \n",
       "4              Arya30                 Arya 30                Ary a 30   \n",
       "\n",
       "                        3                       4                        5  \\\n",
       "0  varun chaka ra var thy  varun chaka rava rt hy  varun chaka r a var thy   \n",
       "1    e nd bengal violence    end ben gal violence    e n d bengal violence   \n",
       "2                  a v fc                  a vf c                   av f c   \n",
       "3             merry xm as             m erry xmas            me r r y xmas   \n",
       "4                Ar ya 30               A r ya 30                 A rya 30   \n",
       "\n",
       "                        6                       7                       8  \\\n",
       "0  varun chaka rav art hy  varun chaka rav ar thy  varun ch akara var thy   \n",
       "1    end b engal violence    end benga l violence  end ben g a l violence   \n",
       "2                 a v f c                    avfc                   avf c   \n",
       "3            merry x m as             merry xma s             mer ry xmas   \n",
       "4               A ry a 30                Arya 3 0              A r y a 30   \n",
       "\n",
       "                         9                       10  \n",
       "0  varun chaka rava rt h y  varun cha kar a var thy  \n",
       "1     end beng al violence     end bengal violenc e  \n",
       "2                      NaN                      NaN  \n",
       "3           me r r y x mas             merry xm a s  \n",
       "4                Ar y a 30                Ar ya 3 0  "
      ]
     },
     "execution_count": 38,
     "metadata": {},
     "output_type": "execute_result"
    }
   ],
   "source": [
    "df = pd.read_csv('not_separable_hashtags_with_source_topk.tsv', sep='\\t', header=None, names=['Hashtag', '1', '2', '3', '4', '5', '6', '7', '8', '9', '10'])\n",
    "df.head()"
   ]
  },
  {
   "cell_type": "code",
   "execution_count": 39,
   "metadata": {},
   "outputs": [],
   "source": [
    "non_eng_df = pd.DataFrame(columns=['Hashtag', '1', '2', '3', '4', '5', '6', '7', '8', '9', '10'])"
   ]
  },
  {
   "cell_type": "code",
   "execution_count": 40,
   "metadata": {},
   "outputs": [],
   "source": [
    "for index, row in df.iterrows():\n",
    "    try:\n",
    "        segmented = row['1'].split()\n",
    "        flag = 0\n",
    "        for elt in segmented:\n",
    "            if not elt.isnumeric() and not english_dict.check(elt.lower()):\n",
    "                flag = 1\n",
    "        if flag:\n",
    "            non_eng_df = non_eng_df.append(row)\n",
    "    except AttributeError:\n",
    "        pass"
   ]
  },
  {
   "cell_type": "code",
   "execution_count": 41,
   "metadata": {},
   "outputs": [
    {
     "data": {
      "text/html": [
       "<div>\n",
       "<style scoped>\n",
       "    .dataframe tbody tr th:only-of-type {\n",
       "        vertical-align: middle;\n",
       "    }\n",
       "\n",
       "    .dataframe tbody tr th {\n",
       "        vertical-align: top;\n",
       "    }\n",
       "\n",
       "    .dataframe thead th {\n",
       "        text-align: right;\n",
       "    }\n",
       "</style>\n",
       "<table border=\"1\" class=\"dataframe\">\n",
       "  <thead>\n",
       "    <tr style=\"text-align: right;\">\n",
       "      <th></th>\n",
       "      <th>Hashtag</th>\n",
       "      <th>1</th>\n",
       "      <th>2</th>\n",
       "      <th>3</th>\n",
       "      <th>4</th>\n",
       "      <th>5</th>\n",
       "      <th>6</th>\n",
       "      <th>7</th>\n",
       "      <th>8</th>\n",
       "      <th>9</th>\n",
       "      <th>10</th>\n",
       "    </tr>\n",
       "  </thead>\n",
       "  <tbody>\n",
       "    <tr>\n",
       "      <th>0</th>\n",
       "      <td>varunchakaravarthy</td>\n",
       "      <td>varun cha kara var thy</td>\n",
       "      <td>varun chaka rava r thy</td>\n",
       "      <td>varun chaka ra var thy</td>\n",
       "      <td>varun chaka rava rt hy</td>\n",
       "      <td>varun chaka r a var thy</td>\n",
       "      <td>varun chaka rav art hy</td>\n",
       "      <td>varun chaka rav ar thy</td>\n",
       "      <td>varun ch akara var thy</td>\n",
       "      <td>varun chaka rava rt h y</td>\n",
       "      <td>varun cha kar a var thy</td>\n",
       "    </tr>\n",
       "    <tr>\n",
       "      <th>1</th>\n",
       "      <td>endbengalviolence</td>\n",
       "      <td>end bengal violence</td>\n",
       "      <td>en d bengal violence</td>\n",
       "      <td>e nd bengal violence</td>\n",
       "      <td>end ben gal violence</td>\n",
       "      <td>e n d bengal violence</td>\n",
       "      <td>end b engal violence</td>\n",
       "      <td>end benga l violence</td>\n",
       "      <td>end ben g a l violence</td>\n",
       "      <td>end beng al violence</td>\n",
       "      <td>end bengal violenc e</td>\n",
       "    </tr>\n",
       "    <tr>\n",
       "      <th>2</th>\n",
       "      <td>avfc</td>\n",
       "      <td>a vfc</td>\n",
       "      <td>av fc</td>\n",
       "      <td>a v fc</td>\n",
       "      <td>a vf c</td>\n",
       "      <td>av f c</td>\n",
       "      <td>a v f c</td>\n",
       "      <td>avfc</td>\n",
       "      <td>avf c</td>\n",
       "      <td>NaN</td>\n",
       "      <td>NaN</td>\n",
       "    </tr>\n",
       "    <tr>\n",
       "      <th>3</th>\n",
       "      <td>merryxmas</td>\n",
       "      <td>merry xmas</td>\n",
       "      <td>merry x mas</td>\n",
       "      <td>merry xm as</td>\n",
       "      <td>m erry xmas</td>\n",
       "      <td>me r r y xmas</td>\n",
       "      <td>merry x m as</td>\n",
       "      <td>merry xma s</td>\n",
       "      <td>mer ry xmas</td>\n",
       "      <td>me r r y x mas</td>\n",
       "      <td>merry xm a s</td>\n",
       "    </tr>\n",
       "    <tr>\n",
       "      <th>4</th>\n",
       "      <td>Arya30</td>\n",
       "      <td>Arya 30</td>\n",
       "      <td>Ary a 30</td>\n",
       "      <td>Ar ya 30</td>\n",
       "      <td>A r ya 30</td>\n",
       "      <td>A rya 30</td>\n",
       "      <td>A ry a 30</td>\n",
       "      <td>Arya 3 0</td>\n",
       "      <td>A r y a 30</td>\n",
       "      <td>Ar y a 30</td>\n",
       "      <td>Ar ya 3 0</td>\n",
       "    </tr>\n",
       "  </tbody>\n",
       "</table>\n",
       "</div>"
      ],
      "text/plain": [
       "              Hashtag                       1                       2  \\\n",
       "0  varunchakaravarthy  varun cha kara var thy  varun chaka rava r thy   \n",
       "1   endbengalviolence     end bengal violence    en d bengal violence   \n",
       "2                avfc                   a vfc                   av fc   \n",
       "3           merryxmas              merry xmas             merry x mas   \n",
       "4              Arya30                 Arya 30                Ary a 30   \n",
       "\n",
       "                        3                       4                        5  \\\n",
       "0  varun chaka ra var thy  varun chaka rava rt hy  varun chaka r a var thy   \n",
       "1    e nd bengal violence    end ben gal violence    e n d bengal violence   \n",
       "2                  a v fc                  a vf c                   av f c   \n",
       "3             merry xm as             m erry xmas            me r r y xmas   \n",
       "4                Ar ya 30               A r ya 30                 A rya 30   \n",
       "\n",
       "                        6                       7                       8  \\\n",
       "0  varun chaka rav art hy  varun chaka rav ar thy  varun ch akara var thy   \n",
       "1    end b engal violence    end benga l violence  end ben g a l violence   \n",
       "2                 a v f c                    avfc                   avf c   \n",
       "3            merry x m as             merry xma s             mer ry xmas   \n",
       "4               A ry a 30                Arya 3 0              A r y a 30   \n",
       "\n",
       "                         9                       10  \n",
       "0  varun chaka rava rt h y  varun cha kar a var thy  \n",
       "1     end beng al violence     end bengal violenc e  \n",
       "2                      NaN                      NaN  \n",
       "3           me r r y x mas             merry xm a s  \n",
       "4                Ar y a 30                Ar ya 3 0  "
      ]
     },
     "execution_count": 41,
     "metadata": {},
     "output_type": "execute_result"
    }
   ],
   "source": [
    "non_eng_df.head()"
   ]
  },
  {
   "cell_type": "code",
   "execution_count": 42,
   "metadata": {},
   "outputs": [
    {
     "data": {
      "text/plain": [
       "227855"
      ]
     },
     "execution_count": 42,
     "metadata": {},
     "output_type": "execute_result"
    }
   ],
   "source": [
    "len(non_eng_df)"
   ]
  },
  {
   "cell_type": "code",
   "execution_count": 43,
   "metadata": {},
   "outputs": [],
   "source": [
    "non_eng_df.to_csv('nonEng_notSeparable_multiToken_withSource.csv')"
   ]
  },
  {
   "cell_type": "code",
   "execution_count": 132,
   "metadata": {},
   "outputs": [],
   "source": [
    "non_eng_df = pd.read_csv('nonEng_notSeparable_multiToken_withSource.csv')"
   ]
  },
  {
   "cell_type": "code",
   "execution_count": 135,
   "metadata": {},
   "outputs": [
    {
     "name": "stdout",
     "output_type": "stream",
     "text": [
      "Non english, not separable, multi token hashtags: 227172\n"
     ]
    }
   ],
   "source": [
    "non_eng_df = non_eng_df.drop_duplicates(subset =\"Hashtag\")\n",
    "print('Non english, not separable, multi token hashtags:', len(non_eng_df))"
   ]
  },
  {
   "cell_type": "code",
   "execution_count": 136,
   "metadata": {},
   "outputs": [],
   "source": [
    "non_eng_df.to_csv('nonEng_notSeparable_multiToken_withSource.csv')"
   ]
  },
  {
   "cell_type": "markdown",
   "metadata": {},
   "source": [
    "# Final Segmentation"
   ]
  },
  {
   "cell_type": "code",
   "execution_count": 44,
   "metadata": {},
   "outputs": [],
   "source": [
    "non_eng_df = pd.read_csv('nonEng_notSeparable_multiToken_withSource.csv')"
   ]
  },
  {
   "cell_type": "code",
   "execution_count": 45,
   "metadata": {},
   "outputs": [
    {
     "data": {
      "text/plain": [
       "pandas.core.series.Series"
      ]
     },
     "execution_count": 45,
     "metadata": {},
     "output_type": "execute_result"
    }
   ],
   "source": [
    "nonEng_hashtags = non_eng_df['Hashtag']\n",
    "type(nonEng_hashtags)"
   ]
  },
  {
   "cell_type": "code",
   "execution_count": 46,
   "metadata": {},
   "outputs": [],
   "source": [
    "nonEng_hashtags.to_csv('nonEng_notSeparable_multiToken_hashtags_withSource.tsv', sep='\\t')"
   ]
  },
  {
   "cell_type": "code",
   "execution_count": 47,
   "metadata": {},
   "outputs": [
    {
     "data": {
      "text/html": [
       "<div>\n",
       "<style scoped>\n",
       "    .dataframe tbody tr th:only-of-type {\n",
       "        vertical-align: middle;\n",
       "    }\n",
       "\n",
       "    .dataframe tbody tr th {\n",
       "        vertical-align: top;\n",
       "    }\n",
       "\n",
       "    .dataframe thead th {\n",
       "        text-align: right;\n",
       "    }\n",
       "</style>\n",
       "<table border=\"1\" class=\"dataframe\">\n",
       "  <thead>\n",
       "    <tr style=\"text-align: right;\">\n",
       "      <th></th>\n",
       "      <th>Unnamed: 0</th>\n",
       "      <th>Hashtag</th>\n",
       "    </tr>\n",
       "  </thead>\n",
       "  <tbody>\n",
       "    <tr>\n",
       "      <th>0</th>\n",
       "      <td>0</td>\n",
       "      <td>varunchakaravarthy</td>\n",
       "    </tr>\n",
       "    <tr>\n",
       "      <th>1</th>\n",
       "      <td>1</td>\n",
       "      <td>endbengalviolence</td>\n",
       "    </tr>\n",
       "    <tr>\n",
       "      <th>2</th>\n",
       "      <td>2</td>\n",
       "      <td>avfc</td>\n",
       "    </tr>\n",
       "    <tr>\n",
       "      <th>3</th>\n",
       "      <td>3</td>\n",
       "      <td>merryxmas</td>\n",
       "    </tr>\n",
       "    <tr>\n",
       "      <th>4</th>\n",
       "      <td>4</td>\n",
       "      <td>Arya30</td>\n",
       "    </tr>\n",
       "  </tbody>\n",
       "</table>\n",
       "</div>"
      ],
      "text/plain": [
       "   Unnamed: 0             Hashtag\n",
       "0           0  varunchakaravarthy\n",
       "1           1   endbengalviolence\n",
       "2           2                avfc\n",
       "3           3           merryxmas\n",
       "4           4              Arya30"
      ]
     },
     "execution_count": 47,
     "metadata": {},
     "output_type": "execute_result"
    }
   ],
   "source": [
    "df = pd.read_csv('nonEng_notSeparable_multiToken_hashtags_withSource.tsv', sep='\\t')\n",
    "df.head()"
   ]
  },
  {
   "cell_type": "code",
   "execution_count": 48,
   "metadata": {},
   "outputs": [
    {
     "data": {
      "text/html": [
       "<div>\n",
       "<style scoped>\n",
       "    .dataframe tbody tr th:only-of-type {\n",
       "        vertical-align: middle;\n",
       "    }\n",
       "\n",
       "    .dataframe tbody tr th {\n",
       "        vertical-align: top;\n",
       "    }\n",
       "\n",
       "    .dataframe thead th {\n",
       "        text-align: right;\n",
       "    }\n",
       "</style>\n",
       "<table border=\"1\" class=\"dataframe\">\n",
       "  <thead>\n",
       "    <tr style=\"text-align: right;\">\n",
       "      <th></th>\n",
       "      <th>Hashtag</th>\n",
       "    </tr>\n",
       "  </thead>\n",
       "  <tbody>\n",
       "    <tr>\n",
       "      <th>0</th>\n",
       "      <td>varunchakaravarthy</td>\n",
       "    </tr>\n",
       "    <tr>\n",
       "      <th>1</th>\n",
       "      <td>endbengalviolence</td>\n",
       "    </tr>\n",
       "    <tr>\n",
       "      <th>2</th>\n",
       "      <td>avfc</td>\n",
       "    </tr>\n",
       "    <tr>\n",
       "      <th>3</th>\n",
       "      <td>merryxmas</td>\n",
       "    </tr>\n",
       "    <tr>\n",
       "      <th>4</th>\n",
       "      <td>Arya30</td>\n",
       "    </tr>\n",
       "  </tbody>\n",
       "</table>\n",
       "</div>"
      ],
      "text/plain": [
       "              Hashtag\n",
       "0  varunchakaravarthy\n",
       "1   endbengalviolence\n",
       "2                avfc\n",
       "3           merryxmas\n",
       "4              Arya30"
      ]
     },
     "execution_count": 48,
     "metadata": {},
     "output_type": "execute_result"
    }
   ],
   "source": [
    "df = df.drop('Unnamed: 0', axis=1)\n",
    "df.head()"
   ]
  },
  {
   "cell_type": "code",
   "execution_count": 49,
   "metadata": {},
   "outputs": [],
   "source": [
    "df.to_csv('nonEng_notSeparable_multiToken_hashtags_withSource.tsv', sep='\\t', header=False, index=False)"
   ]
  },
  {
   "cell_type": "code",
   "execution_count": 50,
   "metadata": {},
   "outputs": [
    {
     "name": "stdout",
     "output_type": "stream",
     "text": [
      "Loading language model.\n",
      "Done.\n",
      "Extracting top segmentations.\n"
     ]
    }
   ],
   "source": [
    "!python hashtag_master-master/word_breaker/main.py --k 10 --lm bigger_model.binary --out nonEng_notSeparable_multiToken_hashtags_withSource_topk.tsv --input nonEng_notSeparable_multiToken_hashtags_withSource.tsv"
   ]
  },
  {
   "cell_type": "code",
   "execution_count": 138,
   "metadata": {},
   "outputs": [
    {
     "data": {
      "text/html": [
       "<div>\n",
       "<style scoped>\n",
       "    .dataframe tbody tr th:only-of-type {\n",
       "        vertical-align: middle;\n",
       "    }\n",
       "\n",
       "    .dataframe tbody tr th {\n",
       "        vertical-align: top;\n",
       "    }\n",
       "\n",
       "    .dataframe thead th {\n",
       "        text-align: right;\n",
       "    }\n",
       "</style>\n",
       "<table border=\"1\" class=\"dataframe\">\n",
       "  <thead>\n",
       "    <tr style=\"text-align: right;\">\n",
       "      <th></th>\n",
       "      <th>Hashtag</th>\n",
       "      <th>1</th>\n",
       "      <th>2</th>\n",
       "      <th>3</th>\n",
       "      <th>4</th>\n",
       "      <th>5</th>\n",
       "      <th>6</th>\n",
       "      <th>7</th>\n",
       "      <th>8</th>\n",
       "      <th>9</th>\n",
       "      <th>10</th>\n",
       "    </tr>\n",
       "  </thead>\n",
       "  <tbody>\n",
       "    <tr>\n",
       "      <th>0</th>\n",
       "      <td>varunchakaravarthy</td>\n",
       "      <td>varunchakaravarthy</td>\n",
       "      <td>varunchakaravarth y</td>\n",
       "      <td>v arunchakaravarthy</td>\n",
       "      <td>va runchakaravarthy</td>\n",
       "      <td>varun chakaravarthy</td>\n",
       "      <td>varunchakaravar thy</td>\n",
       "      <td>var unchakaravarthy</td>\n",
       "      <td>varunchakaravart hy</td>\n",
       "      <td>varu nchakaravarthy</td>\n",
       "      <td>varunchakarav arthy</td>\n",
       "    </tr>\n",
       "    <tr>\n",
       "      <th>1</th>\n",
       "      <td>endbengalviolence</td>\n",
       "      <td>endbengalviolence</td>\n",
       "      <td>endbengalviolenc e</td>\n",
       "      <td>e ndbengalviolence</td>\n",
       "      <td>en dbengalviolence</td>\n",
       "      <td>endbengalviolen ce</td>\n",
       "      <td>endbengal violence</td>\n",
       "      <td>end bengalviolence</td>\n",
       "      <td>end bengal violence</td>\n",
       "      <td>endbengalviole nce</td>\n",
       "      <td>endbengalviol ence</td>\n",
       "    </tr>\n",
       "    <tr>\n",
       "      <th>2</th>\n",
       "      <td>avfc</td>\n",
       "      <td>avfc</td>\n",
       "      <td>av fc</td>\n",
       "      <td>a vfc</td>\n",
       "      <td>av f c</td>\n",
       "      <td>avf c</td>\n",
       "      <td>a v fc</td>\n",
       "      <td>a v f c</td>\n",
       "      <td>a vf c</td>\n",
       "      <td>NaN</td>\n",
       "      <td>NaN</td>\n",
       "    </tr>\n",
       "    <tr>\n",
       "      <th>3</th>\n",
       "      <td>merryxmas</td>\n",
       "      <td>merry xmas</td>\n",
       "      <td>merry x mas</td>\n",
       "      <td>merryxmas</td>\n",
       "      <td>merryxm as</td>\n",
       "      <td>merryxma s</td>\n",
       "      <td>m erryxmas</td>\n",
       "      <td>me rryxmas</td>\n",
       "      <td>merryx mas</td>\n",
       "      <td>merry xm as</td>\n",
       "      <td>mer ryxmas</td>\n",
       "    </tr>\n",
       "    <tr>\n",
       "      <th>4</th>\n",
       "      <td>Arya30</td>\n",
       "      <td>Arya30</td>\n",
       "      <td>Arya 30</td>\n",
       "      <td>A rya30</td>\n",
       "      <td>Arya 3 0</td>\n",
       "      <td>Ary a30</td>\n",
       "      <td>Arya3 0</td>\n",
       "      <td>Ary a 30</td>\n",
       "      <td>Ar ya30</td>\n",
       "      <td>A rya 30</td>\n",
       "      <td>Ar y a 30</td>\n",
       "    </tr>\n",
       "  </tbody>\n",
       "</table>\n",
       "</div>"
      ],
      "text/plain": [
       "              Hashtag                   1                    2  \\\n",
       "0  varunchakaravarthy  varunchakaravarthy  varunchakaravarth y   \n",
       "1   endbengalviolence   endbengalviolence   endbengalviolenc e   \n",
       "2                avfc                avfc                av fc   \n",
       "3           merryxmas          merry xmas          merry x mas   \n",
       "4              Arya30              Arya30              Arya 30   \n",
       "\n",
       "                     3                    4                    5  \\\n",
       "0  v arunchakaravarthy  va runchakaravarthy  varun chakaravarthy   \n",
       "1   e ndbengalviolence   en dbengalviolence   endbengalviolen ce   \n",
       "2                a vfc               av f c                avf c   \n",
       "3            merryxmas           merryxm as           merryxma s   \n",
       "4              A rya30             Arya 3 0              Ary a30   \n",
       "\n",
       "                     6                    7                    8  \\\n",
       "0  varunchakaravar thy  var unchakaravarthy  varunchakaravart hy   \n",
       "1   endbengal violence   end bengalviolence  end bengal violence   \n",
       "2               a v fc              a v f c               a vf c   \n",
       "3           m erryxmas           me rryxmas           merryx mas   \n",
       "4              Arya3 0             Ary a 30              Ar ya30   \n",
       "\n",
       "                     9                   10  \n",
       "0  varu nchakaravarthy  varunchakarav arthy  \n",
       "1   endbengalviole nce   endbengalviol ence  \n",
       "2                  NaN                  NaN  \n",
       "3          merry xm as           mer ryxmas  \n",
       "4             A rya 30            Ar y a 30  "
      ]
     },
     "execution_count": 138,
     "metadata": {},
     "output_type": "execute_result"
    }
   ],
   "source": [
    "df = pd.read_csv('nonEng_notSeparable_multiToken_hashtags_withSource_topk.tsv', sep='\\t', header=None, names=['Hashtag', '1', '2', '3', '4', '5', '6', '7', '8', '9', '10'])\n",
    "df.head()"
   ]
  },
  {
   "cell_type": "code",
   "execution_count": 139,
   "metadata": {},
   "outputs": [
    {
     "data": {
      "text/plain": [
       "227855"
      ]
     },
     "execution_count": 139,
     "metadata": {},
     "output_type": "execute_result"
    }
   ],
   "source": [
    "len(df)"
   ]
  },
  {
   "cell_type": "code",
   "execution_count": 140,
   "metadata": {},
   "outputs": [
    {
     "data": {
      "text/plain": [
       "227172"
      ]
     },
     "execution_count": 140,
     "metadata": {},
     "output_type": "execute_result"
    }
   ],
   "source": [
    "df = df.drop_duplicates(subset =\"Hashtag\")\n",
    "len(df)"
   ]
  },
  {
   "cell_type": "code",
   "execution_count": 141,
   "metadata": {},
   "outputs": [],
   "source": [
    "df.to_csv('nonEng_notSeparable_multiToken_hashtags_withSource.tsv', sep='\\t', header=False, index=False)"
   ]
  },
  {
   "cell_type": "code",
   "execution_count": 144,
   "metadata": {},
   "outputs": [
    {
     "data": {
      "text/html": [
       "<div>\n",
       "<style scoped>\n",
       "    .dataframe tbody tr th:only-of-type {\n",
       "        vertical-align: middle;\n",
       "    }\n",
       "\n",
       "    .dataframe tbody tr th {\n",
       "        vertical-align: top;\n",
       "    }\n",
       "\n",
       "    .dataframe thead th {\n",
       "        text-align: right;\n",
       "    }\n",
       "</style>\n",
       "<table border=\"1\" class=\"dataframe\">\n",
       "  <thead>\n",
       "    <tr style=\"text-align: right;\">\n",
       "      <th></th>\n",
       "      <th>Hashtag</th>\n",
       "      <th>Source</th>\n",
       "    </tr>\n",
       "  </thead>\n",
       "  <tbody>\n",
       "    <tr>\n",
       "      <th>0</th>\n",
       "      <td>TXTWeLoveYou</td>\n",
       "      <td>roman</td>\n",
       "    </tr>\n",
       "    <tr>\n",
       "      <th>1</th>\n",
       "      <td>varunchakaravarthy</td>\n",
       "      <td>roman</td>\n",
       "    </tr>\n",
       "    <tr>\n",
       "      <th>2</th>\n",
       "      <td>SuvanConfession</td>\n",
       "      <td>roman</td>\n",
       "    </tr>\n",
       "    <tr>\n",
       "      <th>3</th>\n",
       "      <td>endbengalviolence</td>\n",
       "      <td>roman</td>\n",
       "    </tr>\n",
       "    <tr>\n",
       "      <th>4</th>\n",
       "      <td>MirzaGhalib</td>\n",
       "      <td>roman</td>\n",
       "    </tr>\n",
       "  </tbody>\n",
       "</table>\n",
       "</div>"
      ],
      "text/plain": [
       "              Hashtag Source\n",
       "0        TXTWeLoveYou  roman\n",
       "1  varunchakaravarthy  roman\n",
       "2     SuvanConfession  roman\n",
       "3   endbengalviolence  roman\n",
       "4         MirzaGhalib  roman"
      ]
     },
     "execution_count": 144,
     "metadata": {},
     "output_type": "execute_result"
    }
   ],
   "source": [
    "df_source = pd.read_csv('multi_token_hashtags_with_source.tsv', header=None, sep='\\t')\n",
    "df_source.columns = ['Hashtag', 'Source']\n",
    "df_source.head()"
   ]
  },
  {
   "cell_type": "code",
   "execution_count": 145,
   "metadata": {},
   "outputs": [
    {
     "data": {
      "text/plain": [
       "687915"
      ]
     },
     "execution_count": 145,
     "metadata": {},
     "output_type": "execute_result"
    }
   ],
   "source": [
    "len(df_source)"
   ]
  },
  {
   "cell_type": "code",
   "execution_count": 146,
   "metadata": {},
   "outputs": [
    {
     "data": {
      "text/plain": [
       "686207"
      ]
     },
     "execution_count": 146,
     "metadata": {},
     "output_type": "execute_result"
    }
   ],
   "source": [
    "df_source = df_source.drop_duplicates(subset =\"Hashtag\")\n",
    "len(df_source)"
   ]
  },
  {
   "cell_type": "code",
   "execution_count": 147,
   "metadata": {},
   "outputs": [
    {
     "data": {
      "text/html": [
       "<div>\n",
       "<style scoped>\n",
       "    .dataframe tbody tr th:only-of-type {\n",
       "        vertical-align: middle;\n",
       "    }\n",
       "\n",
       "    .dataframe tbody tr th {\n",
       "        vertical-align: top;\n",
       "    }\n",
       "\n",
       "    .dataframe thead th {\n",
       "        text-align: right;\n",
       "    }\n",
       "</style>\n",
       "<table border=\"1\" class=\"dataframe\">\n",
       "  <thead>\n",
       "    <tr style=\"text-align: right;\">\n",
       "      <th></th>\n",
       "      <th>Hashtag</th>\n",
       "      <th>1</th>\n",
       "      <th>2</th>\n",
       "      <th>3</th>\n",
       "      <th>4</th>\n",
       "      <th>5</th>\n",
       "      <th>6</th>\n",
       "      <th>7</th>\n",
       "      <th>8</th>\n",
       "      <th>9</th>\n",
       "      <th>10</th>\n",
       "      <th>Source</th>\n",
       "    </tr>\n",
       "  </thead>\n",
       "  <tbody>\n",
       "    <tr>\n",
       "      <th>0</th>\n",
       "      <td>varunchakaravarthy</td>\n",
       "      <td>varunchakaravarthy</td>\n",
       "      <td>varunchakaravarth y</td>\n",
       "      <td>v arunchakaravarthy</td>\n",
       "      <td>va runchakaravarthy</td>\n",
       "      <td>varun chakaravarthy</td>\n",
       "      <td>varunchakaravar thy</td>\n",
       "      <td>var unchakaravarthy</td>\n",
       "      <td>varunchakaravart hy</td>\n",
       "      <td>varu nchakaravarthy</td>\n",
       "      <td>varunchakarav arthy</td>\n",
       "      <td>roman</td>\n",
       "    </tr>\n",
       "    <tr>\n",
       "      <th>1</th>\n",
       "      <td>endbengalviolence</td>\n",
       "      <td>endbengalviolence</td>\n",
       "      <td>endbengalviolenc e</td>\n",
       "      <td>e ndbengalviolence</td>\n",
       "      <td>en dbengalviolence</td>\n",
       "      <td>endbengalviolen ce</td>\n",
       "      <td>endbengal violence</td>\n",
       "      <td>end bengalviolence</td>\n",
       "      <td>end bengal violence</td>\n",
       "      <td>endbengalviole nce</td>\n",
       "      <td>endbengalviol ence</td>\n",
       "      <td>roman</td>\n",
       "    </tr>\n",
       "    <tr>\n",
       "      <th>2</th>\n",
       "      <td>avfc</td>\n",
       "      <td>avfc</td>\n",
       "      <td>av fc</td>\n",
       "      <td>a vfc</td>\n",
       "      <td>av f c</td>\n",
       "      <td>avf c</td>\n",
       "      <td>a v fc</td>\n",
       "      <td>a v f c</td>\n",
       "      <td>a vf c</td>\n",
       "      <td>NaN</td>\n",
       "      <td>NaN</td>\n",
       "      <td>roman</td>\n",
       "    </tr>\n",
       "    <tr>\n",
       "      <th>3</th>\n",
       "      <td>merryxmas</td>\n",
       "      <td>merry xmas</td>\n",
       "      <td>merry x mas</td>\n",
       "      <td>merryxmas</td>\n",
       "      <td>merryxm as</td>\n",
       "      <td>merryxma s</td>\n",
       "      <td>m erryxmas</td>\n",
       "      <td>me rryxmas</td>\n",
       "      <td>merryx mas</td>\n",
       "      <td>merry xm as</td>\n",
       "      <td>mer ryxmas</td>\n",
       "      <td>roman</td>\n",
       "    </tr>\n",
       "    <tr>\n",
       "      <th>4</th>\n",
       "      <td>Arya30</td>\n",
       "      <td>Arya30</td>\n",
       "      <td>Arya 30</td>\n",
       "      <td>A rya30</td>\n",
       "      <td>Arya 3 0</td>\n",
       "      <td>Ary a30</td>\n",
       "      <td>Arya3 0</td>\n",
       "      <td>Ary a 30</td>\n",
       "      <td>Ar ya30</td>\n",
       "      <td>A rya 30</td>\n",
       "      <td>Ar y a 30</td>\n",
       "      <td>roman</td>\n",
       "    </tr>\n",
       "  </tbody>\n",
       "</table>\n",
       "</div>"
      ],
      "text/plain": [
       "              Hashtag                   1                    2  \\\n",
       "0  varunchakaravarthy  varunchakaravarthy  varunchakaravarth y   \n",
       "1   endbengalviolence   endbengalviolence   endbengalviolenc e   \n",
       "2                avfc                avfc                av fc   \n",
       "3           merryxmas          merry xmas          merry x mas   \n",
       "4              Arya30              Arya30              Arya 30   \n",
       "\n",
       "                     3                    4                    5  \\\n",
       "0  v arunchakaravarthy  va runchakaravarthy  varun chakaravarthy   \n",
       "1   e ndbengalviolence   en dbengalviolence   endbengalviolen ce   \n",
       "2                a vfc               av f c                avf c   \n",
       "3            merryxmas           merryxm as           merryxma s   \n",
       "4              A rya30             Arya 3 0              Ary a30   \n",
       "\n",
       "                     6                    7                    8  \\\n",
       "0  varunchakaravar thy  var unchakaravarthy  varunchakaravart hy   \n",
       "1   endbengal violence   end bengalviolence  end bengal violence   \n",
       "2               a v fc              a v f c               a vf c   \n",
       "3           m erryxmas           me rryxmas           merryx mas   \n",
       "4              Arya3 0             Ary a 30              Ar ya30   \n",
       "\n",
       "                     9                   10 Source  \n",
       "0  varu nchakaravarthy  varunchakarav arthy  roman  \n",
       "1   endbengalviole nce   endbengalviol ence  roman  \n",
       "2                  NaN                  NaN  roman  \n",
       "3          merry xm as           mer ryxmas  roman  \n",
       "4             A rya 30            Ar y a 30  roman  "
      ]
     },
     "execution_count": 147,
     "metadata": {},
     "output_type": "execute_result"
    }
   ],
   "source": [
    "df_final = pd.merge(df, df_source, how='inner', on=['Hashtag'])\n",
    "df_final.head()"
   ]
  },
  {
   "cell_type": "code",
   "execution_count": 148,
   "metadata": {},
   "outputs": [
    {
     "data": {
      "text/plain": [
       "227172"
      ]
     },
     "execution_count": 148,
     "metadata": {},
     "output_type": "execute_result"
    }
   ],
   "source": [
    "len(df_final)"
   ]
  },
  {
   "cell_type": "code",
   "execution_count": 149,
   "metadata": {},
   "outputs": [],
   "source": [
    "df_final = df_final.drop_duplicates(subset =\"Hashtag\")"
   ]
  },
  {
   "cell_type": "code",
   "execution_count": 150,
   "metadata": {},
   "outputs": [
    {
     "data": {
      "text/plain": [
       "(227172, 686207, 227172)"
      ]
     },
     "execution_count": 150,
     "metadata": {},
     "output_type": "execute_result"
    }
   ],
   "source": [
    "h1 = set(list(df['Hashtag']))\n",
    "h2 = set(list(df_source['Hashtag']))\n",
    "len(h1), len(h2), len(h1.intersection(h2))"
   ]
  },
  {
   "cell_type": "code",
   "execution_count": 151,
   "metadata": {},
   "outputs": [],
   "source": [
    "df_final.to_csv('finalSegmented_withSource.csv')"
   ]
  }
 ],
 "metadata": {
  "kernelspec": {
   "display_name": "Python 3",
   "language": "python",
   "name": "python3"
  },
  "language_info": {
   "codemirror_mode": {
    "name": "ipython",
    "version": 3
   },
   "file_extension": ".py",
   "mimetype": "text/x-python",
   "name": "python",
   "nbconvert_exporter": "python",
   "pygments_lexer": "ipython3",
   "version": "3.6.5"
  }
 },
 "nbformat": 4,
 "nbformat_minor": 4
}

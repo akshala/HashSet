{
 "cells": [
  {
   "cell_type": "code",
   "execution_count": 54,
   "metadata": {},
   "outputs": [],
   "source": [
    "import json\n",
    "from operator import itemgetter\n",
    "import matplotlib.pyplot as plt"
   ]
  },
  {
   "cell_type": "code",
   "execution_count": 2,
   "metadata": {},
   "outputs": [],
   "source": [
    "f = open('annotations.json',)\n",
    "data = json.load(f)\n",
    "f.close()"
   ]
  },
  {
   "cell_type": "code",
   "execution_count": 111,
   "metadata": {},
   "outputs": [
    {
     "data": {
      "text/plain": [
       "[{'value': {'choices': ['$8']},\n",
       "  'id': '6NLMwHBGZF',\n",
       "  'from_name': 'topk',\n",
       "  'to_name': 'text',\n",
       "  'type': 'choices'},\n",
       " {'value': {'choices': ['Yes']},\n",
       "  'id': 'GWNuH5jkka',\n",
       "  'from_name': 'mutlitoken',\n",
       "  'to_name': 'text',\n",
       "  'type': 'choices'},\n",
       " {'value': {'choices': ['No']},\n",
       "  'id': 'BiD-69yYnW',\n",
       "  'from_name': 'languagemix',\n",
       "  'to_name': 'text',\n",
       "  'type': 'choices'},\n",
       " {'value': {'choices': ['Yes']},\n",
       "  'id': 'VjzBb_uPcG',\n",
       "  'from_name': 'namedentity',\n",
       "  'to_name': 'text',\n",
       "  'type': 'choices'},\n",
       " {'value': {'choices': ['Yes']},\n",
       "  'id': 'U6o_-zNPdw',\n",
       "  'from_name': 'namedentity_indian',\n",
       "  'to_name': 'text',\n",
       "  'type': 'choices'},\n",
       " {'value': {'text': ['end bengal violence']},\n",
       "  'id': 'Pz7WYxcHC0',\n",
       "  'from_name': 'answer',\n",
       "  'to_name': 'text',\n",
       "  'type': 'textarea'},\n",
       " {'value': {'start': 3, 'end': 9, 'text': 'bengal', 'labels': ['Location']},\n",
       "  'id': 'R8MKDu7JS3',\n",
       "  'from_name': 'charner',\n",
       "  'to_name': 'text',\n",
       "  'type': 'labels'}]"
      ]
     },
     "execution_count": 111,
     "metadata": {},
     "output_type": "execute_result"
    }
   ],
   "source": [
    "data[0]['annotations'][0]['result']"
   ]
  },
  {
   "cell_type": "code",
   "execution_count": 113,
   "metadata": {},
   "outputs": [
    {
     "name": "stdout",
     "output_type": "stream",
     "text": [
      "{'value': {'start': 0, 'end': 5, 'text': 'varun', 'labels': ['Person']}, 'id': 'wj_ssK8b0A', 'from_name': 'charner', 'to_name': 'text', 'type': 'labels'}\n",
      "{'value': {'start': 5, 'end': 18, 'text': 'chakaravarthy', 'labels': ['Person']}, 'id': 'HcYdE3il9J', 'from_name': 'charner', 'to_name': 'text', 'type': 'labels'}\n",
      "{'value': {'start': 3, 'end': 9, 'text': 'bengal', 'labels': ['Location']}, 'id': 'R8MKDu7JS3', 'from_name': 'charner', 'to_name': 'text', 'type': 'labels'}\n",
      "{'value': {'start': 9, 'end': 15, 'text': 'madrid', 'labels': ['Organization']}, 'id': '2GWEdD4-fQ', 'from_name': 'charner', 'to_name': 'text', 'type': 'labels'}\n",
      "{'value': {'start': 5, 'end': 9, 'text': 'real', 'labels': ['Organization']}, 'id': '1qtANCrBOU', 'from_name': 'charner', 'to_name': 'text', 'type': 'labels'}\n",
      "{'value': {'start': 0, 'end': 8, 'text': 'tamannah', 'labels': ['Person']}, 'id': 'HPYbZYeuLl', 'from_name': 'charner', 'to_name': 'text', 'type': 'labels'}\n",
      "{'value': {'start': 8, 'end': 14, 'text': 'bhatia', 'labels': ['Person']}, 'id': 'VMpAkbF6yi', 'from_name': 'charner', 'to_name': 'text', 'type': 'labels'}\n",
      "{'value': {'start': 8, 'end': 15, 'text': 'darshan', 'labels': ['Person']}, 'id': '4tRve2ktMu', 'from_name': 'charner', 'to_name': 'text', 'type': 'labels'}\n",
      "{'value': {'start': 15, 'end': 20, 'text': 'raval', 'labels': ['Person']}, 'id': '1yOjyiJPQp', 'from_name': 'charner', 'to_name': 'text', 'type': 'labels'}\n",
      "{'value': {'start': 2, 'end': 4, 'text': 'mu', 'labels': ['Organization']}, 'id': '1RL_vmyA4y', 'from_name': 'charner', 'to_name': 'text', 'type': 'labels'}\n",
      "{'value': {'start': 0, 'end': 5, 'text': 'Kabul', 'labels': ['Location']}, 'id': 'fjrogtiNHd', 'from_name': 'charner', 'to_name': 'text', 'type': 'labels'}\n",
      "{'value': {'start': 0, 'end': 7, 'text': 'kangana', 'labels': ['Person']}, 'id': 'i_6C77gOnf', 'from_name': 'charner', 'to_name': 'text', 'type': 'labels'}\n",
      "{'value': {'start': 7, 'end': 13, 'text': 'ranaut', 'labels': ['Person']}, 'id': 'RcUDsQuGkL', 'from_name': 'charner', 'to_name': 'text', 'type': 'labels'}\n",
      "{'value': {'start': 0, 'end': 5, 'text': 'motog', 'labels': ['Organization']}, 'id': 'AjbxrbpP8k', 'from_name': 'charner', 'to_name': 'text', 'type': 'labels'}\n",
      "{'value': {'start': 0, 'end': 6, 'text': 'myntra', 'labels': ['Organization']}, 'id': 'rdgAFABCBF', 'from_name': 'charner', 'to_name': 'text', 'type': 'labels'}\n",
      "{'value': {'start': 0, 'end': 3, 'text': 'HCL', 'labels': ['Organization']}, 'id': '7DbqQkEDcC', 'from_name': 'charner', 'to_name': 'text', 'type': 'labels'}\n",
      "{'value': {'start': 0, 'end': 3, 'text': 'dsk', 'labels': ['Person']}, 'id': 'SiWdVhnGkP', 'from_name': 'charner', 'to_name': 'text', 'type': 'labels'}\n",
      "{'value': {'start': 0, 'end': 5, 'text': 'DELHI', 'labels': ['Organization']}, 'id': 'HmA6IiUgsX', 'from_name': 'charner', 'to_name': 'text', 'type': 'labels'}\n",
      "{'value': {'start': 9, 'end': 14, 'text': 'mains', 'labels': ['Organization']}, 'id': '-SeLwRiSDs', 'from_name': 'charner', 'to_name': 'text', 'type': 'labels'}\n",
      "{'value': {'start': 6, 'end': 9, 'text': 'jee', 'labels': ['Organization']}, 'id': 'kOw2fzX1j9', 'from_name': 'charner', 'to_name': 'text', 'type': 'labels'}\n",
      "{'value': {'start': 0, 'end': 4, 'text': 'imfc', 'labels': ['Organization']}, 'id': 'Q_olM58Ea_', 'from_name': 'charner', 'to_name': 'text', 'type': 'labels'}\n",
      "{'value': {'start': 0, 'end': 5, 'text': 'NCDMB', 'labels': ['Organization']}, 'id': 'OAhHmQ5zy2', 'from_name': 'charner', 'to_name': 'text', 'type': 'labels'}\n",
      "{'value': {'start': 0, 'end': 10, 'text': 'Manglorean', 'labels': ['Location']}, 'id': 'j91Gf7C5ZH', 'from_name': 'charner', 'to_name': 'text', 'type': 'labels'}\n",
      "{'value': {'start': 0, 'end': 3, 'text': 'BTS', 'labels': ['Organization']}, 'id': 'XQ_OyfG22j', 'from_name': 'charner', 'to_name': 'text', 'type': 'labels'}\n",
      "{'value': {'start': 8, 'end': 12, 'text': 'AMMK', 'labels': ['Person']}, 'id': 'OPGyKTtaPZ', 'from_name': 'charner', 'to_name': 'text', 'type': 'labels'}\n",
      "{'value': {'start': 0, 'end': 7, 'text': 'Thanjai', 'labels': ['Person']}, 'id': '1ERlat0c0N', 'from_name': 'charner', 'to_name': 'text', 'type': 'labels'}\n",
      "{'value': {'start': 0, 'end': 5, 'text': 'veena', 'labels': ['Person']}, 'id': 'tHxDgl0AYD', 'from_name': 'charner', 'to_name': 'text', 'type': 'labels'}\n",
      "{'value': {'start': 5, 'end': 11, 'text': 'jagtap', 'labels': ['Person']}, 'id': 'OHK8wDfDA0', 'from_name': 'charner', 'to_name': 'text', 'type': 'labels'}\n",
      "{'value': {'start': 0, 'end': 4, 'text': 'veer', 'labels': ['Person']}, 'id': '2ThV6V10BK', 'from_name': 'charner', 'to_name': 'text', 'type': 'labels'}\n",
      "{'value': {'start': 4, 'end': 12, 'text': 'savarkar', 'labels': ['Person']}, 'id': 'C0V3lRk0TD', 'from_name': 'charner', 'to_name': 'text', 'type': 'labels'}\n",
      "{'value': {'start': 0, 'end': 5, 'text': 'pappu', 'labels': ['Person']}, 'id': 'KD3_3Ro3az', 'from_name': 'charner', 'to_name': 'text', 'type': 'labels'}\n",
      "{'value': {'start': 0, 'end': 9, 'text': 'chowkidar', 'labels': ['Person']}, 'id': 'fv61JldrZY', 'from_name': 'charner', 'to_name': 'text', 'type': 'labels'}\n",
      "{'value': {'start': 2, 'end': 9, 'text': 'bareily', 'labels': ['Location']}, 'id': 'Z1eBfx8ZkR', 'from_name': 'charner', 'to_name': 'text', 'type': 'labels'}\n",
      "{'value': {'start': 0, 'end': 6, 'text': 'Dalian', 'labels': ['Location']}, 'id': 'okiyjx92_F', 'from_name': 'charner', 'to_name': 'text', 'type': 'labels'}\n",
      "{'value': {'start': 3, 'end': 8, 'text': 'alwal', 'labels': ['Location']}, 'id': '6On5wvUIuz', 'from_name': 'charner', 'to_name': 'text', 'type': 'labels'}\n",
      "{'value': {'start': 0, 'end': 6, 'text': 'wannon', 'labels': ['Location']}, 'id': 'BWVbtuyxWg', 'from_name': 'charner', 'to_name': 'text', 'type': 'labels'}\n",
      "{'value': {'start': 0, 'end': 5, 'text': 'Shane', 'labels': ['Person']}, 'id': 'mfA0k-fiFS', 'from_name': 'charner', 'to_name': 'text', 'type': 'labels'}\n",
      "{'value': {'start': 5, 'end': 11, 'text': 'watson', 'labels': ['Person']}, 'id': 'uWR7jimhJD', 'from_name': 'charner', 'to_name': 'text', 'type': 'labels'}\n",
      "{'value': {'start': 0, 'end': 7, 'text': 'Saltoro', 'labels': ['Location']}, 'id': 'paQVonaEqr', 'from_name': 'charner', 'to_name': 'text', 'type': 'labels'}\n",
      "{'value': {'start': 11, 'end': 15, 'text': 'modi', 'labels': ['Person']}, 'id': 'jU2uIpL7Ag', 'from_name': 'charner', 'to_name': 'text', 'type': 'labels'}\n",
      "{'value': {'start': 0, 'end': 4, 'text': 'shaq', 'labels': ['Person']}, 'id': 'GHeRP_MbV6', 'from_name': 'charner', 'to_name': 'text', 'type': 'labels'}\n",
      "{'value': {'start': 0, 'end': 6, 'text': 'renuka', 'labels': ['Person']}, 'id': '8okmKQjqER', 'from_name': 'charner', 'to_name': 'text', 'type': 'labels'}\n",
      "{'value': {'start': 6, 'end': 15, 'text': 'chowdhary', 'labels': ['Person']}, 'id': 'me5UmM5SFe', 'from_name': 'charner', 'to_name': 'text', 'type': 'labels'}\n",
      "{'value': {'start': 0, 'end': 6, 'text': 'Eezham', 'labels': ['Location']}, 'id': 'njj7eEbfsa', 'from_name': 'charner', 'to_name': 'text', 'type': 'labels'}\n",
      "{'value': {'start': 0, 'end': 3, 'text': 'JOE', 'labels': ['Person']}, 'id': 'wuGA-Dzj86', 'from_name': 'charner', 'to_name': 'text', 'type': 'labels'}\n",
      "{'value': {'start': 3, 'end': 8, 'text': 'KIMOK', 'labels': ['Person']}, 'id': '9LXp3hJHwT', 'from_name': 'charner', 'to_name': 'text', 'type': 'labels'}\n",
      "{'value': {'start': 12, 'end': 17, 'text': 'times', 'labels': ['Organization']}, 'id': 'D-Jjm2lcZu', 'from_name': 'charner', 'to_name': 'text', 'type': 'labels'}\n",
      "{'value': {'start': 3, 'end': 12, 'text': 'hindustan', 'labels': ['Organization']}, 'id': 'A5IcSPQxNv', 'from_name': 'charner', 'to_name': 'text', 'type': 'labels'}\n",
      "{'value': {'start': 0, 'end': 3, 'text': 'the', 'labels': ['Organization']}, 'id': 'c2bfQLmsSI', 'from_name': 'charner', 'to_name': 'text', 'type': 'labels'}\n",
      "{'value': {'start': 0, 'end': 5, 'text': 'tamil', 'labels': ['Language']}, 'id': '_uTdt7vVax', 'from_name': 'charner', 'to_name': 'text', 'type': 'labels'}\n",
      "{'value': {'start': 0, 'end': 4, 'text': 'AAMU', 'labels': ['Organization']}, 'id': 'sc4bd4AFD8', 'from_name': 'charner', 'to_name': 'text', 'type': 'labels'}\n",
      "{'value': {'start': 0, 'end': 11, 'text': 'srimanthudu', 'labels': ['Person']}, 'id': 'ji0hs_mvsN', 'from_name': 'charner', 'to_name': 'text', 'type': 'labels'}\n",
      "{'value': {'start': 0, 'end': 3, 'text': 'LGE', 'labels': ['Organization']}, 'id': 'hduOrSr19F', 'from_name': 'charner', 'to_name': 'text', 'type': 'labels'}\n",
      "{'value': {'start': 5, 'end': 11, 'text': 'bharat', 'labels': ['Location']}, 'id': 'VXose4pWfn', 'from_name': 'charner', 'to_name': 'text', 'type': 'labels'}\n",
      "{'value': {'start': 6, 'end': 15, 'text': 'choukidar', 'labels': ['Person']}, 'id': 'd2Ht2gbhyg', 'from_name': 'charner', 'to_name': 'text', 'type': 'labels'}\n",
      "{'value': {'start': 0, 'end': 3, 'text': 'ssc', 'labels': ['Organization']}, 'id': '31l79nsz8M', 'from_name': 'charner', 'to_name': 'text', 'type': 'labels'}\n",
      "{'value': {'start': 0, 'end': 9, 'text': 'Gopalganj', 'labels': ['Location']}, 'id': 'Vi_VcdAAbE', 'from_name': 'charner', 'to_name': 'text', 'type': 'labels'}\n",
      "{'value': {'start': 0, 'end': 3, 'text': 'pei', 'labels': ['Location']}, 'id': 'Ub2XCdSaCN', 'from_name': 'charner', 'to_name': 'text', 'type': 'labels'}\n",
      "{'value': {'start': 0, 'end': 9, 'text': 'Gangadevi', 'labels': ['Person']}, 'id': '_2tGMxzqVV', 'from_name': 'charner', 'to_name': 'text', 'type': 'labels'}\n",
      "{'value': {'start': 0, 'end': 6, 'text': 'khalid', 'labels': ['Person']}, 'id': 'EjNjskSZT9', 'from_name': 'charner', 'to_name': 'text', 'type': 'labels'}\n",
      "{'value': {'start': 6, 'end': 12, 'text': 'hameed', 'labels': ['Person']}, 'id': '-tJp7Q9tYG', 'from_name': 'charner', 'to_name': 'text', 'type': 'labels'}\n",
      "{'value': {'start': 0, 'end': 3, 'text': 'tmc', 'labels': ['Organization']}, 'id': 'cD5aVnb7XK', 'from_name': 'charner', 'to_name': 'text', 'type': 'labels'}\n",
      "{'value': {'start': 4, 'end': 13, 'text': 'mahisagar', 'labels': ['Location']}, 'id': 'H_zfPIyTvK', 'from_name': 'charner', 'to_name': 'text', 'type': 'labels'}\n",
      "{'value': {'start': 0, 'end': 6, 'text': 'gandhi', 'labels': ['Organization']}, 'id': 'ss9-pisIE6', 'from_name': 'charner', 'to_name': 'text', 'type': 'labels'}\n",
      "{'value': {'start': 0, 'end': 6, 'text': 'deepak', 'labels': ['Person']}, 'id': 'g85OK_PJkW', 'from_name': 'charner', 'to_name': 'text', 'type': 'labels'}\n",
      "{'value': {'start': 6, 'end': 12, 'text': 'kripal', 'labels': ['Person']}, 'id': 'StHrD83zXd', 'from_name': 'charner', 'to_name': 'text', 'type': 'labels'}\n",
      "{'value': {'start': 7, 'end': 13, 'text': 'poonam', 'labels': ['Person']}, 'id': 'RuftZiFyeC', 'from_name': 'charner', 'to_name': 'text', 'type': 'labels'}\n",
      "{'value': {'start': 8, 'end': 16, 'text': 'sarpanch', 'labels': ['Person']}, 'id': 'iLAcms2_C0', 'from_name': 'charner', 'to_name': 'text', 'type': 'labels'}\n",
      "{'value': {'start': 9, 'end': 13, 'text': 'namo', 'labels': ['Person']}, 'id': 'QWm2HSjjwr', 'from_name': 'charner', 'to_name': 'text', 'type': 'labels'}\n",
      "{'value': {'start': 8, 'end': 14, 'text': 'Tabrez', 'labels': ['Person']}, 'id': 'PhhvMCk_zu', 'from_name': 'charner', 'to_name': 'text', 'type': 'labels'}\n",
      "{'value': {'start': 0, 'end': 7, 'text': 'prudhvi', 'labels': ['Person']}, 'id': 'GsywvhLiRy', 'from_name': 'charner', 'to_name': 'text', 'type': 'labels'}\n",
      "{'value': {'start': 7, 'end': 16, 'text': 'gudiavada', 'labels': ['Person']}, 'id': '_VYzVu9k1L', 'from_name': 'charner', 'to_name': 'text', 'type': 'labels'}\n",
      "{'value': {'start': 3, 'end': 13, 'text': 'janmabhumi', 'labels': ['Organization']}, 'id': '52hycnPJBW', 'from_name': 'charner', 'to_name': 'text', 'type': 'labels'}\n",
      "{'value': {'start': 0, 'end': 2, 'text': 'Ze', 'labels': ['Organization']}, 'id': 'HawRXsNA2t', 'from_name': 'charner', 'to_name': 'text', 'type': 'labels'}\n",
      "{'value': {'start': 0, 'end': 4, 'text': 'tata', 'labels': ['Organization']}, 'id': 'iTrwFcxkYE', 'from_name': 'charner', 'to_name': 'text', 'type': 'labels'}\n",
      "{'value': {'start': 4, 'end': 10, 'text': 'agrico', 'labels': ['Organization']}, 'id': '2QzMm0phGH', 'from_name': 'charner', 'to_name': 'text', 'type': 'labels'}\n",
      "{'value': {'start': 0, 'end': 6, 'text': 'sruthi', 'labels': ['Person']}, 'id': 'SzYIUGdOQg', 'from_name': 'charner', 'to_name': 'text', 'type': 'labels'}\n",
      "{'value': {'start': 6, 'end': 12, 'text': 'hassan', 'labels': ['Person']}, 'id': 'UKNO3KYCll', 'from_name': 'charner', 'to_name': 'text', 'type': 'labels'}\n",
      "{'value': {'start': 0, 'end': 7, 'text': 'Khopoli', 'labels': ['Location']}, 'id': 'X9s8O2MgYg', 'from_name': 'charner', 'to_name': 'text', 'type': 'labels'}\n",
      "{'value': {'start': 5, 'end': 13, 'text': 'ritheesh', 'labels': ['Person']}, 'id': 'itk4K7V41X', 'from_name': 'charner', 'to_name': 'text', 'type': 'labels'}\n",
      "{'value': {'start': 3, 'end': 5, 'text': 'jk', 'labels': ['Person']}, 'id': 'k78dGOTbl2', 'from_name': 'charner', 'to_name': 'text', 'type': 'labels'}\n",
      "{'value': {'start': 0, 'end': 1, 'text': 'k', 'labels': ['Person']}, 'id': 'QJ1T5RKDD5', 'from_name': 'charner', 'to_name': 'text', 'type': 'labels'}\n",
      "{'value': {'start': 1, 'end': 10, 'text': 'surendran', 'labels': ['Person']}, 'id': 'BorTL1XA56', 'from_name': 'charner', 'to_name': 'text', 'type': 'labels'}\n",
      "{'value': {'start': 13, 'end': 27, 'text': 'pathanamthitta', 'labels': ['Location']}, 'id': 'qwlAY-mjHY', 'from_name': 'charner', 'to_name': 'text', 'type': 'labels'}\n",
      "{'value': {'start': 0, 'end': 3, 'text': 'dgp', 'labels': ['Organization']}, 'id': 'TJHnymY-EV', 'from_name': 'charner', 'to_name': 'text', 'type': 'labels'}\n",
      "{'value': {'start': 3, 'end': 8, 'text': 'delhi', 'labels': ['Location']}, 'id': '9T2EuT2BKn', 'from_name': 'charner', 'to_name': 'text', 'type': 'labels'}\n",
      "{'value': {'start': 0, 'end': 5, 'text': 'Korba', 'labels': ['Location']}, 'id': 'ezF4CZfWaB', 'from_name': 'charner', 'to_name': 'text', 'type': 'labels'}\n",
      "{'value': {'start': 0, 'end': 7, 'text': 'parlour', 'labels': ['Location']}, 'id': 'lVPGG-NcdW', 'from_name': 'charner', 'to_name': 'text', 'type': 'labels'}\n",
      "{'value': {'start': 0, 'end': 5, 'text': 'Sikar', 'labels': ['Location']}, 'id': 'cwkSoKApKD', 'from_name': 'charner', 'to_name': 'text', 'type': 'labels'}\n",
      "{'value': {'start': 0, 'end': 5, 'text': 'lokha', 'labels': ['Organization']}, 'id': 'kAMcpqa8Tz', 'from_name': 'charner', 'to_name': 'text', 'type': 'labels'}\n",
      "{'value': {'start': 5, 'end': 10, 'text': 'sabha', 'labels': ['Organization']}, 'id': 'DWa81q6Dwt', 'from_name': 'charner', 'to_name': 'text', 'type': 'labels'}\n",
      "{'value': {'start': 18, 'end': 22, 'text': '2019', 'labels': ['Date']}, 'id': 'n95lu7q7Ru', 'from_name': 'charner', 'to_name': 'text', 'type': 'labels'}\n",
      "{'value': {'start': 0, 'end': 6, 'text': 'german', 'labels': ['Organization']}, 'id': 'w7aUPizNg-', 'from_name': 'charner', 'to_name': 'text', 'type': 'labels'}\n",
      "{'value': {'start': 10, 'end': 18, 'text': 'ecosport', 'labels': ['Product']}, 'id': 'YNk2zXY1iu', 'from_name': 'charner', 'to_name': 'text', 'type': 'labels'}\n",
      "{'value': {'start': 7, 'end': 10, 'text': 'ord', 'labels': ['Organization']}, 'id': 'R3AzWlTont', 'from_name': 'charner', 'to_name': 'text', 'type': 'labels'}\n",
      "{'value': {'start': 0, 'end': 11, 'text': 'Grundrechte', 'labels': ['Organization']}, 'id': 'qFkgpMZ4YJ', 'from_name': 'charner', 'to_name': 'text', 'type': 'labels'}\n",
      "{'value': {'start': 0, 'end': 4, 'text': 'amma', 'labels': ['Person']}, 'id': 'h3pm8g_L-p', 'from_name': 'charner', 'to_name': 'text', 'type': 'labels'}\n",
      "{'value': {'start': 0, 'end': 4, 'text': 'hong', 'labels': ['Location']}, 'id': 'G92cHFzWpx', 'from_name': 'charner', 'to_name': 'text', 'type': 'labels'}\n",
      "{'value': {'start': 4, 'end': 8, 'text': 'kong', 'labels': ['Location']}, 'id': 'IWZTIMulcT', 'from_name': 'charner', 'to_name': 'text', 'type': 'labels'}\n",
      "{'value': {'start': 0, 'end': 10, 'text': 'christians', 'labels': ['Organization']}, 'id': '8CHUSsTWZq', 'from_name': 'charner', 'to_name': 'text', 'type': 'labels'}\n",
      "{'value': {'start': 0, 'end': 7, 'text': 'UNITECH', 'labels': ['Organization']}, 'id': 'lvXtZ5e3u4', 'from_name': 'charner', 'to_name': 'text', 'type': 'labels'}\n",
      "{'value': {'start': 8, 'end': 14, 'text': 'anurag', 'labels': ['Person']}, 'id': 'SQnfWfzmpZ', 'from_name': 'charner', 'to_name': 'text', 'type': 'labels'}\n",
      "{'value': {'start': 14, 'end': 20, 'text': 'thakur', 'labels': ['Person']}, 'id': 'jrx57FGiBr', 'from_name': 'charner', 'to_name': 'text', 'type': 'labels'}\n",
      "{'value': {'start': 0, 'end': 7, 'text': 'kangsna', 'labels': ['Person']}, 'id': 'Fm3S8-jOtk', 'from_name': 'charner', 'to_name': 'text', 'type': 'labels'}\n",
      "{'value': {'start': 2, 'end': 8, 'text': 'prabhu', 'labels': ['Person']}, 'id': 'uGgRo0uzIS', 'from_name': 'charner', 'to_name': 'text', 'type': 'labels'}\n",
      "{'value': {'start': 0, 'end': 10, 'text': 'Hindudstan', 'labels': ['Location']}, 'id': '_g9yjBOZM7', 'from_name': 'charner', 'to_name': 'text', 'type': 'labels'}\n",
      "{'value': {'start': 7, 'end': 14, 'text': 'trudeau', 'labels': ['Person']}, 'id': '4uHnuZHeP1', 'from_name': 'charner', 'to_name': 'text', 'type': 'labels'}\n",
      "{'value': {'start': 0, 'end': 8, 'text': 'tejinder', 'labels': ['Person']}, 'id': 'sdIy_jN_Xx', 'from_name': 'charner', 'to_name': 'text', 'type': 'labels'}\n",
      "{'value': {'start': 8, 'end': 12, 'text': 'baga', 'labels': ['Person']}, 'id': 'pxqILrF8qI', 'from_name': 'charner', 'to_name': 'text', 'type': 'labels'}\n",
      "{'value': {'start': 0, 'end': 6, 'text': 'bangal', 'labels': ['Location']}, 'id': 'vsGyhc9KTc', 'from_name': 'charner', 'to_name': 'text', 'type': 'labels'}\n",
      "{'value': {'start': 0, 'end': 4, 'text': 'nida', 'labels': ['Person']}, 'id': '4IjKLYAqV9', 'from_name': 'charner', 'to_name': 'text', 'type': 'labels'}\n",
      "{'value': {'start': 4, 'end': 9, 'text': 'fazli', 'labels': ['Person']}, 'id': 'T8VXCGBxGN', 'from_name': 'charner', 'to_name': 'text', 'type': 'labels'}\n",
      "{'value': {'start': 0, 'end': 7, 'text': 'dhanush', 'labels': ['Person']}, 'id': 'AF1_65je5-', 'from_name': 'charner', 'to_name': 'text', 'type': 'labels'}\n",
      "{'value': {'start': 0, 'end': 7, 'text': 'ANTIOCH', 'labels': ['Location']}, 'id': 'zT6F48QVrx', 'from_name': 'charner', 'to_name': 'text', 'type': 'labels'}\n",
      "{'value': {'start': 0, 'end': 4, 'text': 'arif', 'labels': ['Person']}, 'id': 'Y0yEV9hIP0', 'from_name': 'charner', 'to_name': 'text', 'type': 'labels'}\n",
      "{'value': {'start': 0, 'end': 4, 'text': 'Admk', 'labels': ['Organization']}, 'id': 'HNX1U29HK3', 'from_name': 'charner', 'to_name': 'text', 'type': 'labels'}\n",
      "{'value': {'start': 0, 'end': 8, 'text': 'AKHILESH', 'labels': ['Person']}, 'id': 'Y5CFs76fZy', 'from_name': 'charner', 'to_name': 'text', 'type': 'labels'}\n",
      "{'value': {'start': 0, 'end': 3, 'text': 'jio', 'labels': ['Organization']}, 'id': 'bwwHaqnveV', 'from_name': 'charner', 'to_name': 'text', 'type': 'labels'}\n",
      "{'value': {'start': 0, 'end': 5, 'text': 'Sikhs', 'labels': ['Person']}, 'id': 'goN9CyqdY2', 'from_name': 'charner', 'to_name': 'text', 'type': 'labels'}\n",
      "{'value': {'start': 5, 'end': 11, 'text': 'haasan', 'labels': ['Person']}, 'id': '3ItsPYP67J', 'from_name': 'charner', 'to_name': 'text', 'type': 'labels'}\n",
      "{'value': {'start': 0, 'end': 5, 'text': 'Kamal', 'labels': ['Person']}, 'id': 'DLazs38JdJ', 'from_name': 'charner', 'to_name': 'text', 'type': 'labels'}\n",
      "{'value': {'start': 0, 'end': 8, 'text': 'Noakhali', 'labels': ['Location']}, 'id': 'ob2UHWqUu2', 'from_name': 'charner', 'to_name': 'text', 'type': 'labels'}\n",
      "{'value': {'start': 0, 'end': 6, 'text': 'kishor', 'labels': ['Person']}, 'id': 'dHWRQFQOpD', 'from_name': 'charner', 'to_name': 'text', 'type': 'labels'}\n",
      "{'value': {'start': 6, 'end': 12, 'text': 'tiwari', 'labels': ['Person']}, 'id': 'ooWJGMxGlj', 'from_name': 'charner', 'to_name': 'text', 'type': 'labels'}\n",
      "{'value': {'start': 8, 'end': 12, 'text': 'tipu', 'labels': ['Person']}, 'id': 'OsqrlyZbvF', 'from_name': 'charner', 'to_name': 'text', 'type': 'labels'}\n",
      "{'value': {'start': 12, 'end': 18, 'text': 'sultan', 'labels': ['Person']}, 'id': 'pHkWY1fqm1', 'from_name': 'charner', 'to_name': 'text', 'type': 'labels'}\n",
      "{'value': {'start': 2, 'end': 10, 'text': 'abhishek', 'labels': ['Person']}, 'id': 'r5f0bchkp8', 'from_name': 'charner', 'to_name': 'text', 'type': 'labels'}\n",
      "{'value': {'start': 10, 'end': 16, 'text': 'pandit', 'labels': ['Person']}, 'id': '2O9kWjakHr', 'from_name': 'charner', 'to_name': 'text', 'type': 'labels'}\n",
      "{'value': {'start': 0, 'end': 6, 'text': 'friday', 'labels': ['Time']}, 'id': 'HORN4oveOb', 'from_name': 'charner', 'to_name': 'text', 'type': 'labels'}\n"
     ]
    }
   ],
   "source": [
    "for elt in data:\n",
    "    for sub_elt in elt['annotations'][0]['result']:\n",
    "        if sub_elt['from_name'] == 'charner':\n",
    "            print(sub_elt)"
   ]
  },
  {
   "cell_type": "code",
   "execution_count": 19,
   "metadata": {},
   "outputs": [
    {
     "data": {
      "text/plain": [
       "7"
      ]
     },
     "execution_count": 19,
     "metadata": {},
     "output_type": "execute_result"
    }
   ],
   "source": [
    "len(data[0]['annotations'][0]['result'])"
   ]
  },
  {
   "cell_type": "code",
   "execution_count": 51,
   "metadata": {},
   "outputs": [
    {
     "data": {
      "text/plain": [
       "{'$5': 5,\n",
       " '$8': 11,\n",
       " '$4': 9,\n",
       " '$3': 19,\n",
       " 'None': 59,\n",
       " '$2': 86,\n",
       " '$1': 128,\n",
       " '$10': 12,\n",
       " '$9': 7,\n",
       " '$7': 8,\n",
       " '$6': 3}"
      ]
     },
     "execution_count": 51,
     "metadata": {},
     "output_type": "execute_result"
    }
   ],
   "source": [
    "topk = {}\n",
    "for elt in data:\n",
    "    try:\n",
    "        if elt['annotations'][0]['result'][0]['from_name'] == 'topk':\n",
    "            choice = elt['annotations'][0]['result'][0]['value']['choices'][0]\n",
    "            if choice in topk:\n",
    "                topk[choice] += 1\n",
    "            else:\n",
    "                topk[choice] = 1\n",
    "    except IndexError:\n",
    "        pass\n",
    "topk"
   ]
  },
  {
   "cell_type": "code",
   "execution_count": 60,
   "metadata": {},
   "outputs": [
    {
     "data": {
      "image/png": "[encoded data removed]",
      "text/plain": [
       "<Figure size 432x288 with 1 Axes>"
      ]
     },
     "metadata": {
      "needs_background": "light"
     },
     "output_type": "display_data"
    }
   ],
   "source": [
    "sorted_topk = sorted(topk.items(), key = itemgetter(1), reverse=True)\n",
    "plt.barh([elt[0] for elt in sorted_topk], [elt[1] for elt in sorted_topk], align='center', color='#7a5195')\n",
    "plt.title('Which top kth choice is correct')\n",
    "plt.xlabel('Frequency')\n",
    "plt.ylabel('Top k choice')\n",
    "plt.show()"
   ]
  },
  {
   "cell_type": "code",
   "execution_count": 86,
   "metadata": {},
   "outputs": [
    {
     "data": {
      "text/plain": [
       "{'Yes': 245, 'No': 98}"
      ]
     },
     "execution_count": 86,
     "metadata": {},
     "output_type": "execute_result"
    }
   ],
   "source": [
    "multitoken = {}\n",
    "for elt in data:\n",
    "    try:\n",
    "        if elt['annotations'][0]['result'][1]['from_name'] == 'mutlitoken':\n",
    "            choice = elt['annotations'][0]['result'][1]['value']['choices'][0]\n",
    "            if choice in multitoken:\n",
    "                multitoken[choice] += 1\n",
    "            else:\n",
    "                multitoken[choice] = 1\n",
    "    except IndexError:\n",
    "        pass\n",
    "multitoken"
   ]
  },
  {
   "cell_type": "code",
   "execution_count": 91,
   "metadata": {},
   "outputs": [
    {
     "data": {
      "image/png": "[encoded data removed]",
      "text/plain": [
       "<Figure size 720x504 with 1 Axes>"
      ]
     },
     "metadata": {},
     "output_type": "display_data"
    }
   ],
   "source": [
    "fig = plt.figure(figsize =(10, 7))\n",
    "plt.pie(list(multitoken.values()), labels = list(multitoken.keys()))\n",
    "plt.title('Multitoken hashtag')\n",
    "plt.show()"
   ]
  },
  {
   "cell_type": "code",
   "execution_count": 92,
   "metadata": {},
   "outputs": [
    {
     "data": {
      "text/plain": [
       "{'No': 216, 'Yes': 23}"
      ]
     },
     "execution_count": 92,
     "metadata": {},
     "output_type": "execute_result"
    }
   ],
   "source": [
    "languagemix = {}\n",
    "for elt in data:\n",
    "    try:\n",
    "        if elt['annotations'][0]['result'][2]['from_name'] == 'languagemix':\n",
    "            choice = elt['annotations'][0]['result'][2]['value']['choices'][0]\n",
    "            if choice in languagemix:\n",
    "                languagemix[choice] += 1\n",
    "            else:\n",
    "                languagemix[choice] = 1\n",
    "    except IndexError:\n",
    "        pass\n",
    "languagemix"
   ]
  },
  {
   "cell_type": "code",
   "execution_count": 93,
   "metadata": {},
   "outputs": [
    {
     "data": {
      "image/png": "[encoded data removed]",
      "text/plain": [
       "<Figure size 720x504 with 1 Axes>"
      ]
     },
     "metadata": {},
     "output_type": "display_data"
    }
   ],
   "source": [
    "fig = plt.figure(figsize =(10, 7))\n",
    "plt.pie(list(languagemix.values()), labels = list(languagemix.keys()))\n",
    "plt.title('Language Mix hashtag')\n",
    "plt.show()"
   ]
  },
  {
   "cell_type": "code",
   "execution_count": 94,
   "metadata": {},
   "outputs": [
    {
     "data": {
      "text/plain": [
       "{'Yes': 176, 'No': 60}"
      ]
     },
     "execution_count": 94,
     "metadata": {},
     "output_type": "execute_result"
    }
   ],
   "source": [
    "namedentity = {}\n",
    "for elt in data:\n",
    "    try:\n",
    "        if elt['annotations'][0]['result'][3]['from_name'] == 'namedentity':\n",
    "            choice = elt['annotations'][0]['result'][3]['value']['choices'][0]\n",
    "            if choice in namedentity:\n",
    "                namedentity[choice] += 1\n",
    "            else:\n",
    "                namedentity[choice] = 1\n",
    "    except IndexError:\n",
    "        pass\n",
    "namedentity"
   ]
  },
  {
   "cell_type": "code",
   "execution_count": 95,
   "metadata": {},
   "outputs": [
    {
     "data": {
      "image/png": "[encoded data removed]",
      "text/plain": [
       "<Figure size 720x504 with 1 Axes>"
      ]
     },
     "metadata": {},
     "output_type": "display_data"
    }
   ],
   "source": [
    "fig = plt.figure(figsize =(10, 7))\n",
    "plt.pie(list(namedentity.values()), labels = list(namedentity.keys()))\n",
    "plt.title('Named entity present in hashtag')\n",
    "plt.show()"
   ]
  },
  {
   "cell_type": "code",
   "execution_count": 98,
   "metadata": {},
   "outputs": [
    {
     "data": {
      "text/plain": [
       "{'No': 33, 'Yes': 38}"
      ]
     },
     "execution_count": 98,
     "metadata": {},
     "output_type": "execute_result"
    }
   ],
   "source": [
    "namedentity_indian = {}\n",
    "for elt in data:\n",
    "    try:\n",
    "        if elt['annotations'][0]['result'][3]['from_name'] == 'namedentity_indian':\n",
    "            choice = elt['annotations'][0]['result'][3]['value']['choices'][0]\n",
    "            if choice in namedentity_indian:\n",
    "                namedentity_indian[choice] += 1\n",
    "            else:\n",
    "                namedentity_indian[choice] = 1\n",
    "    except IndexError:\n",
    "        pass\n",
    "namedentity_indian"
   ]
  },
  {
   "cell_type": "code",
   "execution_count": 99,
   "metadata": {},
   "outputs": [
    {
     "data": {
      "image/png": "[encoded data removed]",
      "text/plain": [
       "<Figure size 720x504 with 1 Axes>"
      ]
     },
     "metadata": {},
     "output_type": "display_data"
    }
   ],
   "source": [
    "fig = plt.figure(figsize =(10, 7))\n",
    "plt.pie(list(namedentity_indian.values()), labels = list(namedentity_indian.keys()))\n",
    "plt.title('Named entity of Indian origin present in hashtag')\n",
    "plt.show()"
   ]
  },
  {
   "cell_type": "code",
   "execution_count": 116,
   "metadata": {},
   "outputs": [
    {
     "data": {
      "text/plain": [
       "{'Person': 66,\n",
       " 'Location': 25,\n",
       " 'Organization': 34,\n",
       " 'Language': 1,\n",
       " 'Date': 1,\n",
       " 'Product': 1,\n",
       " 'Time': 1}"
      ]
     },
     "execution_count": 116,
     "metadata": {},
     "output_type": "execute_result"
    }
   ],
   "source": [
    "ner = {}\n",
    "for elt in data:\n",
    "    for sub_elt in elt['annotations'][0]['result']:\n",
    "        if sub_elt['from_name'] == 'charner':\n",
    "            choices = sub_elt['value']['labels']\n",
    "            for choice in choices:\n",
    "                if choice in ner:\n",
    "                    ner[choice] += 1\n",
    "                else:\n",
    "                    ner[choice] = 1\n",
    "ner"
   ]
  },
  {
   "cell_type": "code",
   "execution_count": 117,
   "metadata": {},
   "outputs": [
    {
     "data": {
      "image/png": "[encoded data removed]",
      "text/plain": [
       "<Figure size 432x288 with 1 Axes>"
      ]
     },
     "metadata": {
      "needs_background": "light"
     },
     "output_type": "display_data"
    }
   ],
   "source": [
    "sorted_ner = sorted(ner.items(), key = itemgetter(1), reverse=True)\n",
    "plt.barh([elt[0] for elt in sorted_ner], [elt[1] for elt in sorted_ner], align='center', color='#7a5195')\n",
    "plt.title('NER distribution')\n",
    "plt.xlabel('Frequency')\n",
    "plt.ylabel('NER type')\n",
    "plt.show()"
   ]
  },
  {
   "cell_type": "code",
   "execution_count": null,
   "metadata": {},
   "outputs": [],
   "source": []
  }
 ],
 "metadata": {
  "kernelspec": {
   "display_name": "Python 3",
   "language": "python",
   "name": "python3"
  },
  "language_info": {
   "codemirror_mode": {
    "name": "ipython",
    "version": 3
   },
   "file_extension": ".py",
   "mimetype": "text/x-python",
   "name": "python",
   "nbconvert_exporter": "python",
   "pygments_lexer": "ipython3",
   "version": "3.6.5"
  }
 },
 "nbformat": 4,
 "nbformat_minor": 4
}
